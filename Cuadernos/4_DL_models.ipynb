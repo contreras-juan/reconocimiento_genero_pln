{
 "cells": [
  {
   "cell_type": "code",
   "execution_count": 11,
   "id": "9f30986e-a6b8-4a79-aeb9-0ef1e6f06e26",
   "metadata": {},
   "outputs": [],
   "source": [
    "import pandas as pd\n",
    "\n",
    "import numpy as np\n",
    "\n",
    "from unidecode import unidecode\n",
    "\n",
    "import seaborn as sns\n",
    "import matplotlib.pyplot as plt\n",
    "\n",
    "import joblib\n",
    "\n",
    "import pickle\n",
    "\n",
    "from sklearn.preprocessing import LabelEncoder\n",
    "from sklearn.feature_extraction.text import CountVectorizer\n",
    "\n",
    "from sklearn.model_selection import train_test_split\n",
    "\n",
    "from sklearn.linear_model import LogisticRegression\n",
    "from sklearn.naive_bayes import MultinomialNB\n",
    "\n",
    "from xgboost import XGBClassifier\n",
    "\n",
    "from sklearn.metrics import confusion_matrix\n",
    "\n",
    "import sklearn.metrics as metrics\n",
    "\n",
    "from tensorflow.keras import models\n",
    "from tensorflow.keras.models import Model\n",
    "from tensorflow.keras.models import load_model\n",
    "from keras.layers import Embedding\n",
    "from tensorflow.keras.layers import Dense, Dropout, Flatten, Input, LeakyReLU\n",
    "from tensorflow.keras.layers import BatchNormalization, Activation, Conv2D \n",
    "from tensorflow.keras.models import Sequential\n",
    "from tensorflow.keras.layers import Dense, Flatten, MaxPooling2D, Dropout\n",
    "from tensorflow.keras.layers import LSTM\n",
    "import tensorflow as tf\n",
    "from tensorflow.keras.layers import Embedding\n",
    "from tensorflow.keras.callbacks import LearningRateScheduler\n",
    "from tensorflow_addons.optimizers import AdamW\n",
    "from tensorflow.keras.regularizers import l2\n",
    "from tensorflow.keras.preprocessing.text import Tokenizer\n",
    "from tensorflow.keras.preprocessing.sequence import pad_sequences\n",
    "\n",
    "from tensorflow.keras.preprocessing.text import Tokenizer\n",
    "from tensorflow.keras.preprocessing.sequence import pad_sequences\n",
    "\n",
    "import json\n",
    "\n",
    "import warnings\n",
    "\n",
    "warnings.filterwarnings('ignore')"
   ]
  },
  {
   "cell_type": "code",
   "execution_count": 12,
   "id": "b742a191-4531-4f6e-a408-df8bce493226",
   "metadata": {},
   "outputs": [],
   "source": [
    "train = pd.read_excel('../Data/train.xlsx')\n",
    "train.dropna(inplace=True)\n",
    "train['data_type'] = 'train'\n",
    "\n",
    "validation = pd.read_excel('../Data/validation.xlsx')\n",
    "validation.dropna(inplace=True)\n",
    "validation['data_type'] = 'validation'\n",
    "\n",
    "test = pd.read_excel('../Data/test.xlsx')\n",
    "test.dropna(inplace=True)\n",
    "test['data_type'] = 'test'\n",
    "\n",
    "df = pd.concat([train, test, validation])"
   ]
  },
  {
   "cell_type": "code",
   "execution_count": 13,
   "id": "c6305db3-bed5-49e4-b5ba-6299a58aecaf",
   "metadata": {},
   "outputs": [],
   "source": [
    "train['d_gender'] = (train['gender']=='male').astype('int64')\n",
    "test['d_gender'] = (test['gender']=='male').astype('int64')\n",
    "validation['d_gender'] = (validation['gender']=='male').astype('int64')"
   ]
  },
  {
   "cell_type": "code",
   "execution_count": 14,
   "id": "a3a8851e-d4ff-4ab8-9451-c1408ba48639",
   "metadata": {},
   "outputs": [],
   "source": [
    "X_train =list(train['name'])\n",
    "Y_train = list(train['d_gender'])\n",
    "\n",
    "X_validation = list(validation['name'])\n",
    "Y_validation = list(validation['d_gender'])\n",
    "\n",
    "X_test =list(test['name'])\n",
    "Y_test = list(test['d_gender'])"
   ]
  },
  {
   "cell_type": "code",
   "execution_count": 15,
   "id": "494d0d5b-d481-4af7-9bd8-346b8b24369a",
   "metadata": {},
   "outputs": [],
   "source": [
    "tokenizer = Tokenizer(char_level=True)\n",
    "tokenizer.fit_on_texts(df['name'])"
   ]
  },
  {
   "cell_type": "code",
   "execution_count": 16,
   "id": "a7b12245-b37f-407b-9d0e-b998a080a59e",
   "metadata": {},
   "outputs": [
    {
     "data": {
      "text/plain": [
       "['../Modelos/vectorizer_2.joblib']"
      ]
     },
     "execution_count": 16,
     "metadata": {},
     "output_type": "execute_result"
    }
   ],
   "source": [
    "joblib.dump(tokenizer, '../Modelos/vectorizer_2.joblib')"
   ]
  },
  {
   "cell_type": "code",
   "execution_count": 26,
   "id": "5b452de4-9252-4d05-bc8e-c31002178ca2",
   "metadata": {},
   "outputs": [],
   "source": [
    "sequences = tokenizer.texts_to_sequences(train['name'])\n",
    "sequences_val = tokenizer.texts_to_sequences(validation['name'])"
   ]
  },
  {
   "cell_type": "code",
   "execution_count": 22,
   "id": "6bd699a7-44b4-4004-91c4-1a8e9775fea3",
   "metadata": {},
   "outputs": [
    {
     "data": {
      "text/plain": [
       "27"
      ]
     },
     "execution_count": 22,
     "metadata": {},
     "output_type": "execute_result"
    }
   ],
   "source": [
    "max([len(x) for x in train['name']])"
   ]
  },
  {
   "cell_type": "code",
   "execution_count": 27,
   "id": "180f89b2-372d-4050-b773-5af17400608f",
   "metadata": {},
   "outputs": [],
   "source": [
    "X_train = pad_sequences(sequences, maxlen=27)\n",
    "X_validation = pad_sequences(sequences_val, maxlen=27)"
   ]
  },
  {
   "cell_type": "code",
   "execution_count": 29,
   "id": "6861ed76-ab75-43df-b2c4-6f180f8266d0",
   "metadata": {},
   "outputs": [
    {
     "data": {
      "text/plain": [
       "(39472, 27)"
      ]
     },
     "execution_count": 29,
     "metadata": {},
     "output_type": "execute_result"
    }
   ],
   "source": [
    "X_train.shape"
   ]
  },
  {
   "cell_type": "code",
   "execution_count": 30,
   "id": "88e5c5f5-5ede-4a8d-840a-0537ed2bbf12",
   "metadata": {},
   "outputs": [
    {
     "data": {
      "text/plain": [
       "(9868, 27)"
      ]
     },
     "execution_count": 30,
     "metadata": {},
     "output_type": "execute_result"
    }
   ],
   "source": [
    "X_validation.shape"
   ]
  },
  {
   "cell_type": "code",
   "execution_count": 5,
   "id": "35bbe688-1b64-40eb-a6df-42d4d77cac8d",
   "metadata": {},
   "outputs": [],
   "source": [
    "cv = joblib.load('../Modelos/vectorizer.joblib')\n",
    "\n",
    "X_train=cv.transform(X_train).toarray()\n",
    "X_test=cv.transform(X_test).toarray()\n",
    "X_validation = cv.transform(X_validation).toarray()"
   ]
  },
  {
   "cell_type": "code",
   "execution_count": 6,
   "id": "f17798fa-b86b-484d-bbc6-cb2fb7c57a7a",
   "metadata": {},
   "outputs": [],
   "source": [
    "Y_train = np.array(Y_train)\n",
    "Y_test = np.array(Y_test)\n",
    "Y_validation = np.array(Y_validation)"
   ]
  },
  {
   "cell_type": "markdown",
   "id": "a01a546c-8761-44b0-818c-97a003be5324",
   "metadata": {},
   "source": [
    "<h2> LSTM </h2>"
   ]
  },
  {
   "cell_type": "code",
   "execution_count": 38,
   "id": "f14139a3-c28e-4639-80e1-589c4a31f42b",
   "metadata": {},
   "outputs": [
    {
     "name": "stdout",
     "output_type": "stream",
     "text": [
      "Model: \"sequential_3\"\n",
      "_________________________________________________________________\n",
      " Layer (type)                Output Shape              Param #   \n",
      "=================================================================\n",
      " embedding_2 (Embedding)     (None, 27, 32)            4096      \n",
      "                                                                 \n",
      " lstm_3 (LSTM)               (None, 100)               53200     \n",
      "                                                                 \n",
      " dense_4 (Dense)             (None, 1)                 101       \n",
      "                                                                 \n",
      "=================================================================\n",
      "Total params: 57397 (224.21 KB)\n",
      "Trainable params: 57397 (224.21 KB)\n",
      "Non-trainable params: 0 (0.00 Byte)\n",
      "_________________________________________________________________\n"
     ]
    }
   ],
   "source": [
    "# Create the model\n",
    "model = Sequential()\n",
    "\n",
    "# Add an Embedding layer to convert characters to dense vectors\n",
    "model.add(Embedding(input_dim=128, output_dim=32, input_length=27))\n",
    "\n",
    "# Add an LSTM layer to capture the sequence patterns\n",
    "model.add(LSTM(100))\n",
    "\n",
    "# Add a Dense layer with sigmoid activation for binary classification (male or female)\n",
    "model.add(Dense(1, activation='sigmoid'))\n",
    "\n",
    "# Compile the model\n",
    "model.compile(optimizer='adam', loss='binary_crossentropy', metrics=['accuracy'])\n",
    "\n",
    "# Display the model summary\n",
    "model.summary()"
   ]
  },
  {
   "cell_type": "code",
   "execution_count": 39,
   "id": "3953c41a-2d09-4616-9b90-b4e493b2dacb",
   "metadata": {},
   "outputs": [],
   "source": [
    "Y_validation = np.array(Y_validation)\n",
    "Y_train = np.array(Y_train)"
   ]
  },
  {
   "cell_type": "code",
   "execution_count": 40,
   "id": "b7f9c0cc-c9d3-4dc7-b6b6-fe9fef3bd64d",
   "metadata": {},
   "outputs": [
    {
     "name": "stdout",
     "output_type": "stream",
     "text": [
      "Epoch 1/50\n",
      "1234/1234 [==============================] - 22s 17ms/step - loss: 0.3238 - accuracy: 0.8516 - val_loss: 0.2462 - val_accuracy: 0.8874\n",
      "Epoch 2/50\n",
      "1234/1234 [==============================] - 20s 16ms/step - loss: 0.2391 - accuracy: 0.8922 - val_loss: 0.2167 - val_accuracy: 0.8994\n",
      "Epoch 3/50\n",
      "1234/1234 [==============================] - 20s 16ms/step - loss: 0.2139 - accuracy: 0.9028 - val_loss: 0.2093 - val_accuracy: 0.9062\n",
      "Epoch 4/50\n",
      "1234/1234 [==============================] - 20s 16ms/step - loss: 0.1976 - accuracy: 0.9102 - val_loss: 0.1833 - val_accuracy: 0.9156\n",
      "Epoch 5/50\n",
      "1234/1234 [==============================] - 21s 17ms/step - loss: 0.1823 - accuracy: 0.9174 - val_loss: 0.1736 - val_accuracy: 0.9220\n",
      "Epoch 6/50\n",
      "1234/1234 [==============================] - 21s 17ms/step - loss: 0.1712 - accuracy: 0.9231 - val_loss: 0.1617 - val_accuracy: 0.9263\n",
      "Epoch 7/50\n",
      "1234/1234 [==============================] - 20s 16ms/step - loss: 0.1619 - accuracy: 0.9266 - val_loss: 0.1548 - val_accuracy: 0.9295\n",
      "Epoch 8/50\n",
      "1234/1234 [==============================] - 20s 16ms/step - loss: 0.1537 - accuracy: 0.9310 - val_loss: 0.1467 - val_accuracy: 0.9335\n",
      "Epoch 9/50\n",
      "1234/1234 [==============================] - 20s 16ms/step - loss: 0.1464 - accuracy: 0.9351 - val_loss: 0.1390 - val_accuracy: 0.9375\n",
      "Epoch 10/50\n",
      "1234/1234 [==============================] - 20s 16ms/step - loss: 0.1387 - accuracy: 0.9386 - val_loss: 0.1277 - val_accuracy: 0.9448\n",
      "Epoch 11/50\n",
      "1234/1234 [==============================] - 20s 16ms/step - loss: 0.1315 - accuracy: 0.9436 - val_loss: 0.1203 - val_accuracy: 0.9482\n",
      "Epoch 12/50\n",
      "1234/1234 [==============================] - 20s 16ms/step - loss: 0.1229 - accuracy: 0.9471 - val_loss: 0.1130 - val_accuracy: 0.9521\n",
      "Epoch 13/50\n",
      "1234/1234 [==============================] - 20s 16ms/step - loss: 0.1147 - accuracy: 0.9498 - val_loss: 0.1071 - val_accuracy: 0.9538\n",
      "Epoch 14/50\n",
      "1234/1234 [==============================] - 20s 16ms/step - loss: 0.1090 - accuracy: 0.9531 - val_loss: 0.0978 - val_accuracy: 0.9596\n",
      "Epoch 15/50\n",
      "1234/1234 [==============================] - 20s 16ms/step - loss: 0.1004 - accuracy: 0.9571 - val_loss: 0.0893 - val_accuracy: 0.9637\n",
      "Epoch 16/50\n",
      "1234/1234 [==============================] - 20s 16ms/step - loss: 0.0936 - accuracy: 0.9594 - val_loss: 0.0821 - val_accuracy: 0.9670\n",
      "Epoch 17/50\n",
      "1234/1234 [==============================] - 20s 16ms/step - loss: 0.0862 - accuracy: 0.9629 - val_loss: 0.0740 - val_accuracy: 0.9692\n",
      "Epoch 18/50\n",
      "1234/1234 [==============================] - 20s 16ms/step - loss: 0.0798 - accuracy: 0.9658 - val_loss: 0.0683 - val_accuracy: 0.9730\n",
      "Epoch 19/50\n",
      "1234/1234 [==============================] - 20s 16ms/step - loss: 0.0743 - accuracy: 0.9683 - val_loss: 0.0605 - val_accuracy: 0.9757\n",
      "Epoch 20/50\n",
      "1234/1234 [==============================] - 20s 16ms/step - loss: 0.0686 - accuracy: 0.9719 - val_loss: 0.0564 - val_accuracy: 0.9780\n",
      "Epoch 21/50\n",
      "1234/1234 [==============================] - 20s 16ms/step - loss: 0.0628 - accuracy: 0.9740 - val_loss: 0.0517 - val_accuracy: 0.9793\n",
      "Epoch 22/50\n",
      "1234/1234 [==============================] - 20s 16ms/step - loss: 0.0588 - accuracy: 0.9755 - val_loss: 0.0481 - val_accuracy: 0.9809\n",
      "Epoch 23/50\n",
      "1234/1234 [==============================] - 20s 16ms/step - loss: 0.0558 - accuracy: 0.9762 - val_loss: 0.0424 - val_accuracy: 0.9838\n",
      "Epoch 24/50\n",
      "1234/1234 [==============================] - 20s 16ms/step - loss: 0.0508 - accuracy: 0.9790 - val_loss: 0.0410 - val_accuracy: 0.9838\n",
      "Epoch 25/50\n",
      "1234/1234 [==============================] - 20s 16ms/step - loss: 0.0486 - accuracy: 0.9797 - val_loss: 0.0406 - val_accuracy: 0.9848\n",
      "Epoch 26/50\n",
      "1234/1234 [==============================] - 20s 16ms/step - loss: 0.0467 - accuracy: 0.9808 - val_loss: 0.0386 - val_accuracy: 0.9858\n",
      "Epoch 27/50\n",
      "1234/1234 [==============================] - 20s 16ms/step - loss: 0.0446 - accuracy: 0.9806 - val_loss: 0.0363 - val_accuracy: 0.9850\n",
      "Epoch 28/50\n",
      "1234/1234 [==============================] - 20s 16ms/step - loss: 0.0424 - accuracy: 0.9821 - val_loss: 0.0319 - val_accuracy: 0.9882\n",
      "Epoch 29/50\n",
      "1234/1234 [==============================] - 20s 16ms/step - loss: 0.0404 - accuracy: 0.9827 - val_loss: 0.0305 - val_accuracy: 0.9871\n",
      "Epoch 30/50\n",
      "1234/1234 [==============================] - 20s 16ms/step - loss: 0.0399 - accuracy: 0.9825 - val_loss: 0.0308 - val_accuracy: 0.9876\n",
      "Epoch 31/50\n",
      "1234/1234 [==============================] - 20s 16ms/step - loss: 0.0385 - accuracy: 0.9828 - val_loss: 0.0288 - val_accuracy: 0.9878\n",
      "Epoch 32/50\n",
      "1234/1234 [==============================] - 20s 16ms/step - loss: 0.0375 - accuracy: 0.9831 - val_loss: 0.0283 - val_accuracy: 0.9878\n",
      "Epoch 33/50\n",
      "1234/1234 [==============================] - 20s 16ms/step - loss: 0.0367 - accuracy: 0.9841 - val_loss: 0.0289 - val_accuracy: 0.9890\n",
      "Epoch 34/50\n",
      "1234/1234 [==============================] - 20s 16ms/step - loss: 0.0370 - accuracy: 0.9837 - val_loss: 0.0284 - val_accuracy: 0.9875\n",
      "Epoch 35/50\n",
      "1234/1234 [==============================] - 20s 16ms/step - loss: 0.0341 - accuracy: 0.9845 - val_loss: 0.0251 - val_accuracy: 0.9890\n",
      "Epoch 36/50\n",
      "1234/1234 [==============================] - 20s 16ms/step - loss: 0.0341 - accuracy: 0.9843 - val_loss: 0.0274 - val_accuracy: 0.9888\n",
      "Epoch 37/50\n",
      "1234/1234 [==============================] - 20s 16ms/step - loss: 0.0346 - accuracy: 0.9843 - val_loss: 0.0248 - val_accuracy: 0.9892\n",
      "Epoch 38/50\n",
      "1234/1234 [==============================] - 20s 16ms/step - loss: 0.0330 - accuracy: 0.9846 - val_loss: 0.0250 - val_accuracy: 0.9882\n",
      "Epoch 39/50\n",
      "1234/1234 [==============================] - 20s 16ms/step - loss: 0.0317 - accuracy: 0.9851 - val_loss: 0.0255 - val_accuracy: 0.9891\n",
      "Epoch 40/50\n",
      "1234/1234 [==============================] - 20s 16ms/step - loss: 0.0332 - accuracy: 0.9842 - val_loss: 0.0247 - val_accuracy: 0.9895\n",
      "Epoch 41/50\n",
      "1234/1234 [==============================] - 21s 17ms/step - loss: 0.0322 - accuracy: 0.9849 - val_loss: 0.0237 - val_accuracy: 0.9891\n",
      "Epoch 42/50\n",
      "1234/1234 [==============================] - 20s 16ms/step - loss: 0.0315 - accuracy: 0.9850 - val_loss: 0.0223 - val_accuracy: 0.9899\n",
      "Epoch 43/50\n",
      "1234/1234 [==============================] - 20s 16ms/step - loss: 0.0316 - accuracy: 0.9843 - val_loss: 0.0222 - val_accuracy: 0.9906\n",
      "Epoch 44/50\n",
      "1234/1234 [==============================] - 20s 16ms/step - loss: 0.0313 - accuracy: 0.9849 - val_loss: 0.0221 - val_accuracy: 0.9903\n",
      "Epoch 45/50\n",
      "1234/1234 [==============================] - 20s 16ms/step - loss: 0.0309 - accuracy: 0.9851 - val_loss: 0.0247 - val_accuracy: 0.9894\n",
      "Epoch 46/50\n",
      "1234/1234 [==============================] - 20s 16ms/step - loss: 0.0310 - accuracy: 0.9843 - val_loss: 0.0225 - val_accuracy: 0.9893\n",
      "Epoch 47/50\n",
      "1234/1234 [==============================] - 20s 16ms/step - loss: 0.0295 - accuracy: 0.9849 - val_loss: 0.0226 - val_accuracy: 0.9891\n",
      "Epoch 48/50\n",
      "1234/1234 [==============================] - 20s 16ms/step - loss: 0.0302 - accuracy: 0.9841 - val_loss: 0.0274 - val_accuracy: 0.9892\n",
      "Epoch 49/50\n",
      "1234/1234 [==============================] - 20s 16ms/step - loss: 0.0305 - accuracy: 0.9848 - val_loss: 0.0220 - val_accuracy: 0.9893\n",
      "Epoch 50/50\n",
      "1234/1234 [==============================] - 20s 16ms/step - loss: 0.0291 - accuracy: 0.9851 - val_loss: 0.0223 - val_accuracy: 0.9891\n"
     ]
    }
   ],
   "source": [
    "history = model.fit(X_train, Y_train, epochs=50, batch_size=32, validation_data=(X_validation, Y_validation))"
   ]
  },
  {
   "cell_type": "code",
   "execution_count": 41,
   "id": "ddda73d1-3090-45c7-bb58-fa1b268469ff",
   "metadata": {},
   "outputs": [
    {
     "data": {
      "image/png": "[encoded data removed]",
      "text/plain": [
       "<Figure size 640x480 with 1 Axes>"
      ]
     },
     "metadata": {},
     "output_type": "display_data"
    }
   ],
   "source": [
    "# Plot training & validation loss values\n",
    "plt.plot(history.history['loss'])\n",
    "plt.plot(history.history['val_loss'])\n",
    "plt.title('Model Loss')\n",
    "plt.xlabel('Epoch')\n",
    "plt.ylabel('Loss')\n",
    "plt.legend(['Train', 'Validation'], loc='upper left')\n",
    "\n",
    "plt.tight_layout()\n",
    "plt.show()"
   ]
  },
  {
   "cell_type": "code",
   "execution_count": 43,
   "id": "1183d608-fb96-4d5d-adfe-ef74433b6f35",
   "metadata": {},
   "outputs": [],
   "source": [
    "sequences_test = tokenizer.texts_to_sequences(test['name'])"
   ]
  },
  {
   "cell_type": "code",
   "execution_count": 44,
   "id": "96f478f7-9158-4990-9d0f-c3c89de732a5",
   "metadata": {},
   "outputs": [],
   "source": [
    "X_test = pad_sequences(sequences_test, maxlen=27)"
   ]
  },
  {
   "cell_type": "code",
   "execution_count": 46,
   "id": "d321a0bf-6844-4800-9ef3-05693b98dde8",
   "metadata": {},
   "outputs": [],
   "source": [
    "Y_test = np.array(Y_test)"
   ]
  },
  {
   "cell_type": "code",
   "execution_count": 47,
   "id": "6bb33bd8-5fa4-4f61-8e7a-dd292ddd8151",
   "metadata": {},
   "outputs": [
    {
     "name": "stdout",
     "output_type": "stream",
     "text": [
      "1788/1788 [==============================] - 7s 4ms/step\n"
     ]
    }
   ],
   "source": [
    "y_pred = model.predict(X_test)\n",
    "lstm_pred = [int(x) for x in (y_pred > 0.5)]"
   ]
  },
  {
   "cell_type": "code",
   "execution_count": 48,
   "id": "7344fb98-cf3b-41f0-8b30-ce57febedb9a",
   "metadata": {},
   "outputs": [
    {
     "name": "stdout",
     "output_type": "stream",
     "text": [
      "0.9696005593916616\n",
      "              precision    recall  f1-score   support\n",
      "\n",
      "           0       0.99      0.97      0.98     36668\n",
      "           1       0.94      0.97      0.96     20537\n",
      "\n",
      "    accuracy                           0.97     57205\n",
      "   macro avg       0.96      0.97      0.97     57205\n",
      "weighted avg       0.97      0.97      0.97     57205\n",
      "\n"
     ]
    }
   ],
   "source": [
    "print(metrics.accuracy_score(lstm_pred, Y_test))\n",
    "\n",
    "print(metrics.classification_report(Y_test, lstm_pred))"
   ]
  },
  {
   "cell_type": "code",
   "execution_count": 65,
   "id": "539c9b4e-a0df-4926-a5aa-d2bf9b6569a2",
   "metadata": {},
   "outputs": [
    {
     "data": {
      "text/plain": [
       "0.6409929201992833"
      ]
     },
     "execution_count": 65,
     "metadata": {},
     "output_type": "execute_result"
    }
   ],
   "source": [
    "36668 / (36668 + 20537)"
   ]
  },
  {
   "cell_type": "code",
   "execution_count": 49,
   "id": "55faf476-1fd0-4890-9407-ae171c572041",
   "metadata": {},
   "outputs": [
    {
     "name": "stdout",
     "output_type": "stream",
     "text": [
      "[[35460  1208]\n",
      " [  531 20006]]\n"
     ]
    },
    {
     "data": {
      "text/plain": [
       "Text(0.5, 1.0, 'Confusion Matrix')"
      ]
     },
     "execution_count": 49,
     "metadata": {},
     "output_type": "execute_result"
    },
    {
     "data": {
      "image/png": "[encoded data removed]",
      "text/plain": [
       "<Figure size 640x480 with 2 Axes>"
      ]
     },
     "metadata": {},
     "output_type": "display_data"
    }
   ],
   "source": [
    "cmatrix = confusion_matrix(Y_test, lstm_pred)\n",
    "\n",
    "print(cmatrix)\n",
    "\n",
    "sns.heatmap(cmatrix,fmt='d',cmap='BuPu',annot=True)\n",
    "\n",
    "plt.xlabel('Predicted Values')\n",
    "\n",
    "plt.ylabel('Actual Values')\n",
    "\n",
    "plt.title('Confusion Matrix')"
   ]
  },
  {
   "cell_type": "code",
   "execution_count": 50,
   "id": "bc451562-54b0-403f-8c66-dee2f66a3b74",
   "metadata": {},
   "outputs": [
    {
     "name": "stdout",
     "output_type": "stream",
     "text": [
      "INFO:tensorflow:Assets written to: ../Modelos/V2/LSTM_V2/assets\n"
     ]
    },
    {
     "name": "stderr",
     "output_type": "stream",
     "text": [
      "INFO:tensorflow:Assets written to: ../Modelos/V2/LSTM_V2/assets\n"
     ]
    }
   ],
   "source": [
    "model.save('../Modelos/V2/LSTM_V2')"
   ]
  },
  {
   "cell_type": "markdown",
   "id": "ec273a3a-8415-46bd-b387-2dcf9ed94d65",
   "metadata": {},
   "source": [
    "<h2> Deep LSTM </h2>"
   ]
  },
  {
   "cell_type": "code",
   "execution_count": 51,
   "id": "fd228cb8-b26e-47d7-9978-3965647263bc",
   "metadata": {},
   "outputs": [],
   "source": [
    "step = tf.Variable(0, trainable=False)\n",
    "schedule = tf.optimizers.schedules.PiecewiseConstantDecay([10000, 15000], [1e-0, 1e-1, 1e-2])\n",
    "    \n",
    "lr = 1e-3 * schedule(step)\n",
    "wd = lambda: 1e-4 * schedule(step)\n",
    "\n",
    "adamw = AdamW(lr=lr, weight_decay=wd)\n",
    "\n",
    "early_stopping = tf.keras.callbacks.EarlyStopping(monitor='val_loss',\n",
    "                                                  patience=20,\n",
    "                                                  mode='min')"
   ]
  },
  {
   "cell_type": "code",
   "execution_count": 68,
   "id": "81f64696-3c1b-4b7f-abc2-d5f551eeafba",
   "metadata": {},
   "outputs": [
    {
     "name": "stdout",
     "output_type": "stream",
     "text": [
      "Model: \"sequential_10\"\n",
      "_________________________________________________________________\n",
      " Layer (type)                Output Shape              Param #   \n",
      "=================================================================\n",
      " embedding_9 (Embedding)     (None, 27, 32)            4096      \n",
      "                                                                 \n",
      " lstm_11 (LSTM)              (None, 100)               53200     \n",
      "                                                                 \n",
      " dense_17 (Dense)            (None, 1)                 101       \n",
      "                                                                 \n",
      "=================================================================\n",
      "Total params: 57397 (224.21 KB)\n",
      "Trainable params: 57397 (224.21 KB)\n",
      "Non-trainable params: 0 (0.00 Byte)\n",
      "_________________________________________________________________\n"
     ]
    }
   ],
   "source": [
    "# Create the model\n",
    "model2 = Sequential()\n",
    "\n",
    "# Add an Embedding layer to convert characters to dense vectors\n",
    "model2.add(Embedding(input_dim=128, output_dim=32, input_length=27))\n",
    "\n",
    "# Add an LSTM layer to capture the sequence patterns\n",
    "model2.add(LSTM(100))\n",
    "\n",
    "# Add a Dense layer with sigmoid activation for binary classification (male or female)\n",
    "model2.add(Dense(1, activation='sigmoid'))\n",
    "\n",
    "# Compile the model\n",
    "model2.compile(optimizer=adamw, loss='binary_crossentropy', metrics=['accuracy'])\n",
    "\n",
    "# Display the model summary\n",
    "model2.summary()"
   ]
  },
  {
   "cell_type": "code",
   "execution_count": 69,
   "id": "5478cfde-e932-468e-bc44-9fa8c10cbb8c",
   "metadata": {},
   "outputs": [
    {
     "name": "stdout",
     "output_type": "stream",
     "text": [
      "Epoch 1/200\n",
      "617/617 [==============================] - 14s 21ms/step - loss: 0.2826 - accuracy: 0.8732 - val_loss: 0.2261 - val_accuracy: 0.8989\n",
      "Epoch 2/200\n",
      "617/617 [==============================] - 12s 19ms/step - loss: 0.2163 - accuracy: 0.9018 - val_loss: 0.1999 - val_accuracy: 0.9074\n",
      "Epoch 3/200\n",
      "617/617 [==============================] - 12s 20ms/step - loss: 0.2000 - accuracy: 0.9102 - val_loss: 0.1894 - val_accuracy: 0.9121\n",
      "Epoch 4/200\n",
      "617/617 [==============================] - 12s 20ms/step - loss: 0.1873 - accuracy: 0.9156 - val_loss: 0.1788 - val_accuracy: 0.9196\n",
      "Epoch 5/200\n",
      "617/617 [==============================] - 12s 20ms/step - loss: 0.1791 - accuracy: 0.9193 - val_loss: 0.1710 - val_accuracy: 0.9237\n",
      "Epoch 6/200\n",
      "617/617 [==============================] - 12s 19ms/step - loss: 0.1739 - accuracy: 0.9209 - val_loss: 0.1666 - val_accuracy: 0.9263\n",
      "Epoch 7/200\n",
      "617/617 [==============================] - 12s 19ms/step - loss: 0.1679 - accuracy: 0.9241 - val_loss: 0.1657 - val_accuracy: 0.9273\n",
      "Epoch 8/200\n",
      "617/617 [==============================] - 12s 19ms/step - loss: 0.1640 - accuracy: 0.9251 - val_loss: 0.1572 - val_accuracy: 0.9292\n",
      "Epoch 9/200\n",
      "617/617 [==============================] - 12s 19ms/step - loss: 0.1604 - accuracy: 0.9271 - val_loss: 0.1592 - val_accuracy: 0.9287\n",
      "Epoch 10/200\n",
      "617/617 [==============================] - 12s 19ms/step - loss: 0.1575 - accuracy: 0.9291 - val_loss: 0.1527 - val_accuracy: 0.9339\n",
      "Epoch 11/200\n",
      "617/617 [==============================] - 12s 19ms/step - loss: 0.1539 - accuracy: 0.9303 - val_loss: 0.1473 - val_accuracy: 0.9351\n",
      "Epoch 12/200\n",
      "617/617 [==============================] - 12s 19ms/step - loss: 0.1505 - accuracy: 0.9326 - val_loss: 0.1486 - val_accuracy: 0.9359\n",
      "Epoch 13/200\n",
      "617/617 [==============================] - 12s 20ms/step - loss: 0.1472 - accuracy: 0.9343 - val_loss: 0.1450 - val_accuracy: 0.9345\n",
      "Epoch 14/200\n",
      "617/617 [==============================] - 13s 20ms/step - loss: 0.1444 - accuracy: 0.9363 - val_loss: 0.1366 - val_accuracy: 0.9391\n",
      "Epoch 15/200\n",
      "617/617 [==============================] - 12s 19ms/step - loss: 0.1408 - accuracy: 0.9370 - val_loss: 0.1397 - val_accuracy: 0.9392\n",
      "Epoch 16/200\n",
      "617/617 [==============================] - 12s 19ms/step - loss: 0.1382 - accuracy: 0.9391 - val_loss: 0.1333 - val_accuracy: 0.9413\n",
      "Epoch 17/200\n",
      "617/617 [==============================] - 12s 20ms/step - loss: 0.1357 - accuracy: 0.9410 - val_loss: 0.1299 - val_accuracy: 0.9440\n",
      "Epoch 18/200\n",
      "617/617 [==============================] - 12s 20ms/step - loss: 0.1320 - accuracy: 0.9411 - val_loss: 0.1277 - val_accuracy: 0.9441\n",
      "Epoch 19/200\n",
      "617/617 [==============================] - 12s 19ms/step - loss: 0.1313 - accuracy: 0.9426 - val_loss: 0.1311 - val_accuracy: 0.9444\n",
      "Epoch 20/200\n",
      "617/617 [==============================] - 12s 20ms/step - loss: 0.1288 - accuracy: 0.9427 - val_loss: 0.1242 - val_accuracy: 0.9461\n",
      "Epoch 21/200\n",
      "617/617 [==============================] - 12s 20ms/step - loss: 0.1257 - accuracy: 0.9450 - val_loss: 0.1230 - val_accuracy: 0.9458\n",
      "Epoch 22/200\n",
      "617/617 [==============================] - 12s 19ms/step - loss: 0.1223 - accuracy: 0.9461 - val_loss: 0.1178 - val_accuracy: 0.9501\n",
      "Epoch 23/200\n",
      "617/617 [==============================] - 12s 19ms/step - loss: 0.1212 - accuracy: 0.9467 - val_loss: 0.1171 - val_accuracy: 0.9505\n",
      "Epoch 24/200\n",
      "617/617 [==============================] - 12s 20ms/step - loss: 0.1194 - accuracy: 0.9484 - val_loss: 0.1122 - val_accuracy: 0.9517\n",
      "Epoch 25/200\n",
      "617/617 [==============================] - 12s 20ms/step - loss: 0.1160 - accuracy: 0.9505 - val_loss: 0.1125 - val_accuracy: 0.9509\n",
      "Epoch 26/200\n",
      "617/617 [==============================] - 12s 19ms/step - loss: 0.1142 - accuracy: 0.9502 - val_loss: 0.1108 - val_accuracy: 0.9516\n",
      "Epoch 27/200\n",
      "617/617 [==============================] - 12s 19ms/step - loss: 0.1129 - accuracy: 0.9502 - val_loss: 0.1081 - val_accuracy: 0.9535\n",
      "Epoch 28/200\n",
      "617/617 [==============================] - 12s 19ms/step - loss: 0.1098 - accuracy: 0.9526 - val_loss: 0.1069 - val_accuracy: 0.9526\n",
      "Epoch 29/200\n",
      "617/617 [==============================] - 12s 20ms/step - loss: 0.1090 - accuracy: 0.9523 - val_loss: 0.1046 - val_accuracy: 0.9555\n",
      "Epoch 30/200\n",
      "617/617 [==============================] - 12s 20ms/step - loss: 0.1061 - accuracy: 0.9535 - val_loss: 0.0998 - val_accuracy: 0.9566\n",
      "Epoch 31/200\n",
      "617/617 [==============================] - 12s 19ms/step - loss: 0.1043 - accuracy: 0.9544 - val_loss: 0.0991 - val_accuracy: 0.9573\n",
      "Epoch 32/200\n",
      "617/617 [==============================] - 12s 19ms/step - loss: 0.1033 - accuracy: 0.9559 - val_loss: 0.0993 - val_accuracy: 0.9561\n",
      "Epoch 33/200\n",
      "617/617 [==============================] - 12s 19ms/step - loss: 0.1008 - accuracy: 0.9565 - val_loss: 0.0960 - val_accuracy: 0.9586\n",
      "Epoch 34/200\n",
      "617/617 [==============================] - 12s 19ms/step - loss: 0.0999 - accuracy: 0.9571 - val_loss: 0.0926 - val_accuracy: 0.9612\n",
      "Epoch 35/200\n",
      "617/617 [==============================] - 12s 19ms/step - loss: 0.0982 - accuracy: 0.9578 - val_loss: 0.0954 - val_accuracy: 0.9573\n",
      "Epoch 36/200\n",
      "617/617 [==============================] - 12s 19ms/step - loss: 0.0961 - accuracy: 0.9585 - val_loss: 0.0902 - val_accuracy: 0.9614\n",
      "Epoch 37/200\n",
      "617/617 [==============================] - 12s 19ms/step - loss: 0.0946 - accuracy: 0.9596 - val_loss: 0.0894 - val_accuracy: 0.9620\n",
      "Epoch 38/200\n",
      "617/617 [==============================] - 12s 20ms/step - loss: 0.0942 - accuracy: 0.9599 - val_loss: 0.0893 - val_accuracy: 0.9640\n",
      "Epoch 39/200\n",
      "617/617 [==============================] - 12s 20ms/step - loss: 0.0914 - accuracy: 0.9609 - val_loss: 0.0868 - val_accuracy: 0.9624\n",
      "Epoch 40/200\n",
      "617/617 [==============================] - 12s 20ms/step - loss: 0.0913 - accuracy: 0.9609 - val_loss: 0.0839 - val_accuracy: 0.9660\n",
      "Epoch 41/200\n",
      "617/617 [==============================] - 12s 19ms/step - loss: 0.0900 - accuracy: 0.9613 - val_loss: 0.0814 - val_accuracy: 0.9663\n",
      "Epoch 42/200\n",
      "617/617 [==============================] - 12s 19ms/step - loss: 0.0885 - accuracy: 0.9622 - val_loss: 0.0830 - val_accuracy: 0.9640\n",
      "Epoch 43/200\n",
      "617/617 [==============================] - 12s 19ms/step - loss: 0.0878 - accuracy: 0.9634 - val_loss: 0.0828 - val_accuracy: 0.9656\n",
      "Epoch 44/200\n",
      "617/617 [==============================] - 12s 19ms/step - loss: 0.0866 - accuracy: 0.9635 - val_loss: 0.0808 - val_accuracy: 0.9654\n",
      "Epoch 45/200\n",
      "617/617 [==============================] - 12s 19ms/step - loss: 0.0844 - accuracy: 0.9650 - val_loss: 0.0777 - val_accuracy: 0.9675\n",
      "Epoch 46/200\n",
      "617/617 [==============================] - 12s 19ms/step - loss: 0.0851 - accuracy: 0.9632 - val_loss: 0.0775 - val_accuracy: 0.9664\n",
      "Epoch 47/200\n",
      "617/617 [==============================] - 12s 19ms/step - loss: 0.0835 - accuracy: 0.9647 - val_loss: 0.0782 - val_accuracy: 0.9679\n",
      "Epoch 48/200\n",
      "617/617 [==============================] - 12s 19ms/step - loss: 0.0825 - accuracy: 0.9648 - val_loss: 0.0743 - val_accuracy: 0.9706\n",
      "Epoch 49/200\n",
      "617/617 [==============================] - 12s 19ms/step - loss: 0.0828 - accuracy: 0.9652 - val_loss: 0.0712 - val_accuracy: 0.9698\n",
      "Epoch 50/200\n",
      "617/617 [==============================] - 12s 19ms/step - loss: 0.0797 - accuracy: 0.9665 - val_loss: 0.0764 - val_accuracy: 0.9680\n",
      "Epoch 51/200\n",
      "617/617 [==============================] - 12s 19ms/step - loss: 0.0798 - accuracy: 0.9658 - val_loss: 0.0740 - val_accuracy: 0.9685\n",
      "Epoch 52/200\n",
      "617/617 [==============================] - 12s 20ms/step - loss: 0.0798 - accuracy: 0.9660 - val_loss: 0.0729 - val_accuracy: 0.9688\n",
      "Epoch 53/200\n",
      "617/617 [==============================] - 12s 19ms/step - loss: 0.0782 - accuracy: 0.9667 - val_loss: 0.0729 - val_accuracy: 0.9694\n",
      "Epoch 54/200\n",
      "617/617 [==============================] - 12s 19ms/step - loss: 0.0790 - accuracy: 0.9664 - val_loss: 0.0712 - val_accuracy: 0.9698\n",
      "Epoch 55/200\n",
      "617/617 [==============================] - 12s 19ms/step - loss: 0.0767 - accuracy: 0.9679 - val_loss: 0.0745 - val_accuracy: 0.9698\n",
      "Epoch 56/200\n",
      "617/617 [==============================] - 12s 19ms/step - loss: 0.0771 - accuracy: 0.9678 - val_loss: 0.0706 - val_accuracy: 0.9717\n",
      "Epoch 57/200\n",
      "617/617 [==============================] - 12s 19ms/step - loss: 0.0759 - accuracy: 0.9677 - val_loss: 0.0660 - val_accuracy: 0.9722\n",
      "Epoch 58/200\n",
      "617/617 [==============================] - 12s 19ms/step - loss: 0.0753 - accuracy: 0.9682 - val_loss: 0.0714 - val_accuracy: 0.9696\n",
      "Epoch 59/200\n",
      "617/617 [==============================] - 12s 19ms/step - loss: 0.0770 - accuracy: 0.9674 - val_loss: 0.0684 - val_accuracy: 0.9710\n",
      "Epoch 60/200\n",
      "617/617 [==============================] - 12s 19ms/step - loss: 0.0732 - accuracy: 0.9684 - val_loss: 0.0689 - val_accuracy: 0.9717\n",
      "Epoch 61/200\n",
      "617/617 [==============================] - 12s 19ms/step - loss: 0.0741 - accuracy: 0.9688 - val_loss: 0.0651 - val_accuracy: 0.9743\n",
      "Epoch 62/200\n",
      "617/617 [==============================] - 12s 19ms/step - loss: 0.0736 - accuracy: 0.9695 - val_loss: 0.0657 - val_accuracy: 0.9731\n",
      "Epoch 63/200\n",
      "617/617 [==============================] - 12s 20ms/step - loss: 0.0744 - accuracy: 0.9692 - val_loss: 0.0702 - val_accuracy: 0.9721\n",
      "Epoch 64/200\n",
      "617/617 [==============================] - 12s 20ms/step - loss: 0.0713 - accuracy: 0.9705 - val_loss: 0.0664 - val_accuracy: 0.9718\n",
      "Epoch 65/200\n",
      "617/617 [==============================] - 12s 20ms/step - loss: 0.0720 - accuracy: 0.9699 - val_loss: 0.0604 - val_accuracy: 0.9751\n",
      "Epoch 66/200\n",
      "617/617 [==============================] - 12s 19ms/step - loss: 0.0708 - accuracy: 0.9703 - val_loss: 0.0658 - val_accuracy: 0.9747\n",
      "Epoch 67/200\n",
      "617/617 [==============================] - 12s 20ms/step - loss: 0.0704 - accuracy: 0.9705 - val_loss: 0.0680 - val_accuracy: 0.9744\n",
      "Epoch 68/200\n",
      "617/617 [==============================] - 12s 20ms/step - loss: 0.0706 - accuracy: 0.9699 - val_loss: 0.0666 - val_accuracy: 0.9734\n",
      "Epoch 69/200\n",
      "617/617 [==============================] - 12s 19ms/step - loss: 0.0708 - accuracy: 0.9704 - val_loss: 0.0648 - val_accuracy: 0.9744\n",
      "Epoch 70/200\n",
      "617/617 [==============================] - 12s 19ms/step - loss: 0.0691 - accuracy: 0.9708 - val_loss: 0.0607 - val_accuracy: 0.9774\n",
      "Epoch 71/200\n",
      "617/617 [==============================] - 12s 19ms/step - loss: 0.0694 - accuracy: 0.9712 - val_loss: 0.0601 - val_accuracy: 0.9776\n",
      "Epoch 72/200\n",
      "617/617 [==============================] - 12s 19ms/step - loss: 0.0693 - accuracy: 0.9721 - val_loss: 0.0622 - val_accuracy: 0.9752\n",
      "Epoch 73/200\n",
      "617/617 [==============================] - 12s 19ms/step - loss: 0.0686 - accuracy: 0.9719 - val_loss: 0.0638 - val_accuracy: 0.9753\n",
      "Epoch 74/200\n",
      "617/617 [==============================] - 12s 19ms/step - loss: 0.0695 - accuracy: 0.9712 - val_loss: 0.0683 - val_accuracy: 0.9738\n",
      "Epoch 75/200\n",
      "617/617 [==============================] - 12s 19ms/step - loss: 0.0684 - accuracy: 0.9714 - val_loss: 0.0603 - val_accuracy: 0.9765\n",
      "Epoch 76/200\n",
      "617/617 [==============================] - 12s 19ms/step - loss: 0.0675 - accuracy: 0.9710 - val_loss: 0.0608 - val_accuracy: 0.9754\n",
      "Epoch 77/200\n",
      "617/617 [==============================] - 12s 19ms/step - loss: 0.0667 - accuracy: 0.9719 - val_loss: 0.0599 - val_accuracy: 0.9749\n",
      "Epoch 78/200\n",
      "617/617 [==============================] - 12s 19ms/step - loss: 0.0685 - accuracy: 0.9710 - val_loss: 0.0582 - val_accuracy: 0.9799\n",
      "Epoch 79/200\n",
      "617/617 [==============================] - 12s 20ms/step - loss: 0.0658 - accuracy: 0.9722 - val_loss: 0.0592 - val_accuracy: 0.9754\n",
      "Epoch 80/200\n",
      "617/617 [==============================] - 12s 19ms/step - loss: 0.0663 - accuracy: 0.9722 - val_loss: 0.0580 - val_accuracy: 0.9777\n",
      "Epoch 81/200\n",
      "617/617 [==============================] - 12s 19ms/step - loss: 0.0654 - accuracy: 0.9726 - val_loss: 0.0578 - val_accuracy: 0.9764\n",
      "Epoch 82/200\n",
      "617/617 [==============================] - 12s 19ms/step - loss: 0.0683 - accuracy: 0.9710 - val_loss: 0.0619 - val_accuracy: 0.9760\n",
      "Epoch 83/200\n",
      "617/617 [==============================] - 12s 19ms/step - loss: 0.0639 - accuracy: 0.9738 - val_loss: 0.0584 - val_accuracy: 0.9765\n",
      "Epoch 84/200\n",
      "617/617 [==============================] - 12s 19ms/step - loss: 0.0651 - accuracy: 0.9731 - val_loss: 0.0591 - val_accuracy: 0.9778\n",
      "Epoch 85/200\n",
      "617/617 [==============================] - 12s 20ms/step - loss: 0.0654 - accuracy: 0.9725 - val_loss: 0.0572 - val_accuracy: 0.9770\n",
      "Epoch 86/200\n",
      "617/617 [==============================] - 12s 19ms/step - loss: 0.0648 - accuracy: 0.9739 - val_loss: 0.0533 - val_accuracy: 0.9802\n",
      "Epoch 87/200\n",
      "617/617 [==============================] - 12s 19ms/step - loss: 0.0641 - accuracy: 0.9733 - val_loss: 0.0579 - val_accuracy: 0.9774\n",
      "Epoch 88/200\n",
      "617/617 [==============================] - 12s 20ms/step - loss: 0.0656 - accuracy: 0.9732 - val_loss: 0.0636 - val_accuracy: 0.9756\n",
      "Epoch 89/200\n",
      "617/617 [==============================] - 12s 19ms/step - loss: 0.0651 - accuracy: 0.9724 - val_loss: 0.0572 - val_accuracy: 0.9762\n",
      "Epoch 90/200\n",
      "617/617 [==============================] - 12s 19ms/step - loss: 0.0633 - accuracy: 0.9732 - val_loss: 0.0578 - val_accuracy: 0.9796\n",
      "Epoch 91/200\n",
      "617/617 [==============================] - 12s 20ms/step - loss: 0.0630 - accuracy: 0.9739 - val_loss: 0.0550 - val_accuracy: 0.9781\n",
      "Epoch 92/200\n",
      "617/617 [==============================] - 12s 20ms/step - loss: 0.0647 - accuracy: 0.9729 - val_loss: 0.0575 - val_accuracy: 0.9770\n",
      "Epoch 93/200\n",
      "617/617 [==============================] - 12s 20ms/step - loss: 0.0639 - accuracy: 0.9734 - val_loss: 0.0539 - val_accuracy: 0.9793\n",
      "Epoch 94/200\n",
      "617/617 [==============================] - 12s 20ms/step - loss: 0.0632 - accuracy: 0.9735 - val_loss: 0.0632 - val_accuracy: 0.9729\n",
      "Epoch 95/200\n",
      "617/617 [==============================] - 12s 20ms/step - loss: 0.0638 - accuracy: 0.9730 - val_loss: 0.0555 - val_accuracy: 0.9776\n",
      "Epoch 96/200\n",
      "617/617 [==============================] - 12s 20ms/step - loss: 0.0632 - accuracy: 0.9745 - val_loss: 0.0531 - val_accuracy: 0.9799\n",
      "Epoch 97/200\n",
      "617/617 [==============================] - 12s 20ms/step - loss: 0.0633 - accuracy: 0.9738 - val_loss: 0.0576 - val_accuracy: 0.9766\n",
      "Epoch 98/200\n",
      "617/617 [==============================] - 12s 20ms/step - loss: 0.0635 - accuracy: 0.9728 - val_loss: 0.0604 - val_accuracy: 0.9757\n",
      "Epoch 99/200\n",
      "617/617 [==============================] - 12s 19ms/step - loss: 0.0630 - accuracy: 0.9738 - val_loss: 0.0546 - val_accuracy: 0.9797\n",
      "Epoch 100/200\n",
      "617/617 [==============================] - 13s 20ms/step - loss: 0.0622 - accuracy: 0.9738 - val_loss: 0.0572 - val_accuracy: 0.9768\n",
      "Epoch 101/200\n",
      "617/617 [==============================] - 12s 20ms/step - loss: 0.0613 - accuracy: 0.9749 - val_loss: 0.0578 - val_accuracy: 0.9777\n",
      "Epoch 102/200\n",
      "617/617 [==============================] - 12s 19ms/step - loss: 0.0617 - accuracy: 0.9747 - val_loss: 0.0582 - val_accuracy: 0.9767\n",
      "Epoch 103/200\n",
      "617/617 [==============================] - 12s 19ms/step - loss: 0.0631 - accuracy: 0.9735 - val_loss: 0.0505 - val_accuracy: 0.9809\n",
      "Epoch 104/200\n",
      "617/617 [==============================] - 12s 20ms/step - loss: 0.0610 - accuracy: 0.9752 - val_loss: 0.0584 - val_accuracy: 0.9768\n",
      "Epoch 105/200\n",
      "617/617 [==============================] - 12s 19ms/step - loss: 0.0612 - accuracy: 0.9743 - val_loss: 0.0534 - val_accuracy: 0.9803\n",
      "Epoch 106/200\n",
      "617/617 [==============================] - 12s 20ms/step - loss: 0.0617 - accuracy: 0.9749 - val_loss: 0.0642 - val_accuracy: 0.9749\n",
      "Epoch 107/200\n",
      "617/617 [==============================] - 12s 19ms/step - loss: 0.0626 - accuracy: 0.9740 - val_loss: 0.0535 - val_accuracy: 0.9782\n",
      "Epoch 108/200\n",
      "617/617 [==============================] - 12s 19ms/step - loss: 0.0603 - accuracy: 0.9748 - val_loss: 0.0512 - val_accuracy: 0.9816\n",
      "Epoch 109/200\n",
      "617/617 [==============================] - 12s 19ms/step - loss: 0.0615 - accuracy: 0.9742 - val_loss: 0.0540 - val_accuracy: 0.9797\n",
      "Epoch 110/200\n",
      "617/617 [==============================] - 12s 20ms/step - loss: 0.0605 - accuracy: 0.9750 - val_loss: 0.0562 - val_accuracy: 0.9767\n",
      "Epoch 111/200\n",
      "617/617 [==============================] - 12s 19ms/step - loss: 0.0611 - accuracy: 0.9749 - val_loss: 0.0576 - val_accuracy: 0.9785\n",
      "Epoch 112/200\n",
      "617/617 [==============================] - 12s 19ms/step - loss: 0.0606 - accuracy: 0.9745 - val_loss: 0.0649 - val_accuracy: 0.9740\n",
      "Epoch 113/200\n",
      "617/617 [==============================] - 12s 20ms/step - loss: 0.0621 - accuracy: 0.9744 - val_loss: 0.0509 - val_accuracy: 0.9807\n",
      "Epoch 114/200\n",
      "617/617 [==============================] - 12s 20ms/step - loss: 0.0593 - accuracy: 0.9756 - val_loss: 0.0547 - val_accuracy: 0.9798\n",
      "Epoch 115/200\n",
      "617/617 [==============================] - 12s 20ms/step - loss: 0.0605 - accuracy: 0.9746 - val_loss: 0.0513 - val_accuracy: 0.9817\n",
      "Epoch 116/200\n",
      "617/617 [==============================] - 12s 20ms/step - loss: 0.0604 - accuracy: 0.9751 - val_loss: 0.0613 - val_accuracy: 0.9740\n",
      "Epoch 117/200\n",
      "617/617 [==============================] - 12s 20ms/step - loss: 0.0603 - accuracy: 0.9756 - val_loss: 0.0551 - val_accuracy: 0.9778\n",
      "Epoch 118/200\n",
      "617/617 [==============================] - 12s 20ms/step - loss: 0.0601 - accuracy: 0.9743 - val_loss: 0.0521 - val_accuracy: 0.9786\n",
      "Epoch 119/200\n",
      "617/617 [==============================] - 12s 20ms/step - loss: 0.0608 - accuracy: 0.9752 - val_loss: 0.0537 - val_accuracy: 0.9784\n",
      "Epoch 120/200\n",
      "617/617 [==============================] - 12s 20ms/step - loss: 0.0602 - accuracy: 0.9745 - val_loss: 0.0514 - val_accuracy: 0.9825\n",
      "Epoch 121/200\n",
      "617/617 [==============================] - 12s 19ms/step - loss: 0.0598 - accuracy: 0.9752 - val_loss: 0.0545 - val_accuracy: 0.9797\n",
      "Epoch 122/200\n",
      "617/617 [==============================] - 12s 20ms/step - loss: 0.0598 - accuracy: 0.9751 - val_loss: 0.0487 - val_accuracy: 0.9812\n",
      "Epoch 123/200\n",
      "617/617 [==============================] - 12s 20ms/step - loss: 0.0607 - accuracy: 0.9744 - val_loss: 0.0510 - val_accuracy: 0.9801\n",
      "Epoch 124/200\n",
      "617/617 [==============================] - 12s 20ms/step - loss: 0.0588 - accuracy: 0.9755 - val_loss: 0.0524 - val_accuracy: 0.9796\n",
      "Epoch 125/200\n",
      "617/617 [==============================] - 12s 20ms/step - loss: 0.0596 - accuracy: 0.9756 - val_loss: 0.0509 - val_accuracy: 0.9817\n",
      "Epoch 126/200\n",
      "617/617 [==============================] - 12s 20ms/step - loss: 0.0583 - accuracy: 0.9755 - val_loss: 0.0549 - val_accuracy: 0.9797\n",
      "Epoch 127/200\n",
      "617/617 [==============================] - 12s 19ms/step - loss: 0.0592 - accuracy: 0.9753 - val_loss: 0.0522 - val_accuracy: 0.9800\n",
      "Epoch 128/200\n",
      "617/617 [==============================] - 12s 20ms/step - loss: 0.0591 - accuracy: 0.9758 - val_loss: 0.0514 - val_accuracy: 0.9805\n",
      "Epoch 129/200\n",
      "617/617 [==============================] - 12s 19ms/step - loss: 0.0590 - accuracy: 0.9758 - val_loss: 0.0533 - val_accuracy: 0.9798\n",
      "Epoch 130/200\n",
      "617/617 [==============================] - 12s 19ms/step - loss: 0.0625 - accuracy: 0.9744 - val_loss: 0.0494 - val_accuracy: 0.9817\n",
      "Epoch 131/200\n",
      "617/617 [==============================] - 12s 19ms/step - loss: 0.0580 - accuracy: 0.9763 - val_loss: 0.0502 - val_accuracy: 0.9821\n",
      "Epoch 132/200\n",
      "617/617 [==============================] - 12s 19ms/step - loss: 0.0587 - accuracy: 0.9753 - val_loss: 0.0521 - val_accuracy: 0.9786\n",
      "Epoch 133/200\n",
      "617/617 [==============================] - 12s 20ms/step - loss: 0.0573 - accuracy: 0.9774 - val_loss: 0.0499 - val_accuracy: 0.9797\n",
      "Epoch 134/200\n",
      "617/617 [==============================] - 12s 20ms/step - loss: 0.0584 - accuracy: 0.9766 - val_loss: 0.0591 - val_accuracy: 0.9760\n",
      "Epoch 135/200\n",
      "617/617 [==============================] - 12s 20ms/step - loss: 0.0591 - accuracy: 0.9750 - val_loss: 0.0531 - val_accuracy: 0.9800\n",
      "Epoch 136/200\n",
      "617/617 [==============================] - 12s 19ms/step - loss: 0.0589 - accuracy: 0.9757 - val_loss: 0.0514 - val_accuracy: 0.9810\n",
      "Epoch 137/200\n",
      "617/617 [==============================] - 12s 19ms/step - loss: 0.0589 - accuracy: 0.9766 - val_loss: 0.0494 - val_accuracy: 0.9815\n",
      "Epoch 138/200\n",
      "617/617 [==============================] - 12s 20ms/step - loss: 0.0576 - accuracy: 0.9762 - val_loss: 0.0509 - val_accuracy: 0.9796\n",
      "Epoch 139/200\n",
      "617/617 [==============================] - 12s 19ms/step - loss: 0.0583 - accuracy: 0.9762 - val_loss: 0.0516 - val_accuracy: 0.9788\n",
      "Epoch 140/200\n",
      "617/617 [==============================] - 12s 20ms/step - loss: 0.0583 - accuracy: 0.9755 - val_loss: 0.0470 - val_accuracy: 0.9820\n",
      "Epoch 141/200\n",
      "617/617 [==============================] - 12s 20ms/step - loss: 0.0581 - accuracy: 0.9761 - val_loss: 0.0500 - val_accuracy: 0.9816\n",
      "Epoch 142/200\n",
      "617/617 [==============================] - 12s 20ms/step - loss: 0.0581 - accuracy: 0.9764 - val_loss: 0.0696 - val_accuracy: 0.9718\n",
      "Epoch 143/200\n",
      "617/617 [==============================] - 12s 20ms/step - loss: 0.0582 - accuracy: 0.9759 - val_loss: 0.0481 - val_accuracy: 0.9830\n",
      "Epoch 144/200\n",
      "617/617 [==============================] - 12s 20ms/step - loss: 0.0575 - accuracy: 0.9766 - val_loss: 0.0520 - val_accuracy: 0.9810\n",
      "Epoch 145/200\n",
      "617/617 [==============================] - 12s 20ms/step - loss: 0.0585 - accuracy: 0.9769 - val_loss: 0.0498 - val_accuracy: 0.9808\n",
      "Epoch 146/200\n",
      "617/617 [==============================] - 12s 20ms/step - loss: 0.0578 - accuracy: 0.9761 - val_loss: 0.0480 - val_accuracy: 0.9826\n",
      "Epoch 147/200\n",
      "617/617 [==============================] - 12s 19ms/step - loss: 0.0580 - accuracy: 0.9760 - val_loss: 0.0526 - val_accuracy: 0.9801\n",
      "Epoch 148/200\n",
      "617/617 [==============================] - 12s 19ms/step - loss: 0.0592 - accuracy: 0.9755 - val_loss: 0.0486 - val_accuracy: 0.9820\n",
      "Epoch 149/200\n",
      "617/617 [==============================] - 12s 19ms/step - loss: 0.0574 - accuracy: 0.9765 - val_loss: 0.0494 - val_accuracy: 0.9820\n",
      "Epoch 150/200\n",
      "617/617 [==============================] - 12s 20ms/step - loss: 0.0576 - accuracy: 0.9766 - val_loss: 0.0506 - val_accuracy: 0.9809\n",
      "Epoch 151/200\n",
      "617/617 [==============================] - 12s 20ms/step - loss: 0.0577 - accuracy: 0.9757 - val_loss: 0.0514 - val_accuracy: 0.9797\n",
      "Epoch 152/200\n",
      "617/617 [==============================] - 12s 20ms/step - loss: 0.0575 - accuracy: 0.9764 - val_loss: 0.0485 - val_accuracy: 0.9820\n",
      "Epoch 153/200\n",
      "617/617 [==============================] - 12s 20ms/step - loss: 0.0576 - accuracy: 0.9761 - val_loss: 0.0554 - val_accuracy: 0.9774\n",
      "Epoch 154/200\n",
      "617/617 [==============================] - 12s 19ms/step - loss: 0.0576 - accuracy: 0.9763 - val_loss: 0.0503 - val_accuracy: 0.9813\n",
      "Epoch 155/200\n",
      "617/617 [==============================] - 12s 20ms/step - loss: 0.0594 - accuracy: 0.9757 - val_loss: 0.0541 - val_accuracy: 0.9777\n",
      "Epoch 156/200\n",
      "617/617 [==============================] - 12s 19ms/step - loss: 0.0566 - accuracy: 0.9769 - val_loss: 0.0521 - val_accuracy: 0.9814\n",
      "Epoch 157/200\n",
      "617/617 [==============================] - 12s 19ms/step - loss: 0.0583 - accuracy: 0.9766 - val_loss: 0.0516 - val_accuracy: 0.9796\n",
      "Epoch 158/200\n",
      "617/617 [==============================] - 12s 20ms/step - loss: 0.0571 - accuracy: 0.9766 - val_loss: 0.0480 - val_accuracy: 0.9837\n",
      "Epoch 159/200\n",
      "617/617 [==============================] - 12s 20ms/step - loss: 0.0563 - accuracy: 0.9775 - val_loss: 0.0496 - val_accuracy: 0.9812\n",
      "Epoch 160/200\n",
      "617/617 [==============================] - 12s 19ms/step - loss: 0.0564 - accuracy: 0.9769 - val_loss: 0.0465 - val_accuracy: 0.9808\n",
      "Epoch 161/200\n",
      "617/617 [==============================] - 12s 20ms/step - loss: 0.0599 - accuracy: 0.9748 - val_loss: 0.0458 - val_accuracy: 0.9832\n",
      "Epoch 162/200\n",
      "617/617 [==============================] - 12s 19ms/step - loss: 0.0562 - accuracy: 0.9766 - val_loss: 0.0481 - val_accuracy: 0.9815\n",
      "Epoch 163/200\n",
      "617/617 [==============================] - 12s 19ms/step - loss: 0.0568 - accuracy: 0.9761 - val_loss: 0.0499 - val_accuracy: 0.9803\n",
      "Epoch 164/200\n",
      "617/617 [==============================] - 12s 20ms/step - loss: 0.0570 - accuracy: 0.9767 - val_loss: 0.0592 - val_accuracy: 0.9774\n",
      "Epoch 165/200\n",
      "617/617 [==============================] - 12s 20ms/step - loss: 0.0571 - accuracy: 0.9761 - val_loss: 0.0477 - val_accuracy: 0.9832\n",
      "Epoch 166/200\n",
      "617/617 [==============================] - 12s 20ms/step - loss: 0.0572 - accuracy: 0.9761 - val_loss: 0.0469 - val_accuracy: 0.9841\n",
      "Epoch 167/200\n",
      "617/617 [==============================] - 12s 20ms/step - loss: 0.0567 - accuracy: 0.9771 - val_loss: 0.0490 - val_accuracy: 0.9815\n",
      "Epoch 168/200\n",
      "617/617 [==============================] - 12s 20ms/step - loss: 0.0569 - accuracy: 0.9763 - val_loss: 0.0497 - val_accuracy: 0.9806\n",
      "Epoch 169/200\n",
      "617/617 [==============================] - 12s 20ms/step - loss: 0.0572 - accuracy: 0.9766 - val_loss: 0.0484 - val_accuracy: 0.9795\n",
      "Epoch 170/200\n",
      "617/617 [==============================] - 12s 20ms/step - loss: 0.0573 - accuracy: 0.9762 - val_loss: 0.0508 - val_accuracy: 0.9807\n",
      "Epoch 171/200\n",
      "617/617 [==============================] - 12s 20ms/step - loss: 0.0577 - accuracy: 0.9758 - val_loss: 0.0508 - val_accuracy: 0.9816\n",
      "Epoch 172/200\n",
      "617/617 [==============================] - 12s 20ms/step - loss: 0.0570 - accuracy: 0.9768 - val_loss: 0.0464 - val_accuracy: 0.9834\n",
      "Epoch 173/200\n",
      "617/617 [==============================] - 12s 20ms/step - loss: 0.0578 - accuracy: 0.9761 - val_loss: 0.0504 - val_accuracy: 0.9794\n",
      "Epoch 174/200\n",
      "617/617 [==============================] - 12s 20ms/step - loss: 0.0551 - accuracy: 0.9775 - val_loss: 0.0476 - val_accuracy: 0.9833\n",
      "Epoch 175/200\n",
      "617/617 [==============================] - 12s 20ms/step - loss: 0.0568 - accuracy: 0.9771 - val_loss: 0.0488 - val_accuracy: 0.9815\n",
      "Epoch 176/200\n",
      "617/617 [==============================] - 12s 19ms/step - loss: 0.0562 - accuracy: 0.9772 - val_loss: 0.0498 - val_accuracy: 0.9820\n",
      "Epoch 177/200\n",
      "617/617 [==============================] - 12s 19ms/step - loss: 0.0552 - accuracy: 0.9774 - val_loss: 0.0478 - val_accuracy: 0.9823\n",
      "Epoch 178/200\n",
      "617/617 [==============================] - 12s 19ms/step - loss: 0.0556 - accuracy: 0.9771 - val_loss: 0.0515 - val_accuracy: 0.9786\n",
      "Epoch 179/200\n",
      "617/617 [==============================] - 12s 19ms/step - loss: 0.0557 - accuracy: 0.9775 - val_loss: 0.0503 - val_accuracy: 0.9799\n",
      "Epoch 180/200\n",
      "617/617 [==============================] - 12s 19ms/step - loss: 0.0573 - accuracy: 0.9765 - val_loss: 0.0509 - val_accuracy: 0.9808\n",
      "Epoch 181/200\n",
      "617/617 [==============================] - 12s 19ms/step - loss: 0.0549 - accuracy: 0.9776 - val_loss: 0.0507 - val_accuracy: 0.9830\n"
     ]
    }
   ],
   "source": [
    "history = model2.fit(X_train, \n",
    "                     Y_train, \n",
    "                     batch_size=64, \n",
    "                     epochs=200, \n",
    "                     callbacks=[early_stopping], \n",
    "                     validation_data=(X_validation, Y_validation))"
   ]
  },
  {
   "cell_type": "code",
   "execution_count": 70,
   "id": "7d008510-bdfc-4f1d-85c9-1b4df78f1e0a",
   "metadata": {},
   "outputs": [
    {
     "data": {
      "image/png": "[encoded data removed]",
      "text/plain": [
       "<Figure size 640x480 with 1 Axes>"
      ]
     },
     "metadata": {},
     "output_type": "display_data"
    }
   ],
   "source": [
    "# Plot training & validation loss values\n",
    "plt.plot(history.history['loss'])\n",
    "plt.plot(history.history['val_loss'])\n",
    "plt.title('Model Loss')\n",
    "plt.xlabel('Epoch')\n",
    "plt.ylabel('Loss')\n",
    "plt.legend(['Train', 'Validation'], loc='upper left')\n",
    "\n",
    "plt.tight_layout()\n",
    "plt.show()"
   ]
  },
  {
   "cell_type": "code",
   "execution_count": 72,
   "id": "b5e52794-514c-4ad3-ad86-5a4a97d50d5b",
   "metadata": {},
   "outputs": [
    {
     "name": "stdout",
     "output_type": "stream",
     "text": [
      "1788/1788 [==============================] - 7s 4ms/step\n"
     ]
    }
   ],
   "source": [
    "y_pred = model2.predict(X_test)\n",
    "lstm_pred = [int(x) for x in (y_pred > 0.5)]"
   ]
  },
  {
   "cell_type": "code",
   "execution_count": 73,
   "id": "86a87e1b-4185-407a-83e1-db9f2c3431cb",
   "metadata": {},
   "outputs": [
    {
     "name": "stdout",
     "output_type": "stream",
     "text": [
      "0.9480639804212918\n",
      "              precision    recall  f1-score   support\n",
      "\n",
      "           0       0.99      0.93      0.96     36668\n",
      "           1       0.89      0.98      0.93     20537\n",
      "\n",
      "    accuracy                           0.95     57205\n",
      "   macro avg       0.94      0.95      0.94     57205\n",
      "weighted avg       0.95      0.95      0.95     57205\n",
      "\n"
     ]
    }
   ],
   "source": [
    "print(metrics.accuracy_score(lstm_pred, Y_test))\n",
    "\n",
    "print(metrics.classification_report(Y_test, lstm_pred))"
   ]
  },
  {
   "cell_type": "code",
   "execution_count": null,
   "id": "020d2d9e-76d1-4350-ac38-a4aa085bc0ca",
   "metadata": {},
   "outputs": [],
   "source": []
  }
 ],
 "metadata": {
  "kernelspec": {
   "display_name": "Python 3 (ipykernel)",
   "language": "python",
   "name": "python3"
  },
  "language_info": {
   "codemirror_mode": {
    "name": "ipython",
    "version": 3
   },
   "file_extension": ".py",
   "mimetype": "text/x-python",
   "name": "python",
   "nbconvert_exporter": "python",
   "pygments_lexer": "ipython3",
   "version": "3.11.5"
  }
 },
 "nbformat": 4,
 "nbformat_minor": 5
}
