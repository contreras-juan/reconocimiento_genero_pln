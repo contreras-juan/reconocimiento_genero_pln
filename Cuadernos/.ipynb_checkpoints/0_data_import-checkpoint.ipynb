{
 "cells": [
  {
   "cell_type": "code",
   "execution_count": 1,
   "id": "2b664f76-2635-40d3-8496-9d3fef5fa8b8",
   "metadata": {},
   "outputs": [],
   "source": [
    "import pandas as pd"
   ]
  },
  {
   "cell_type": "code",
   "execution_count": 2,
   "id": "46e62c06-6482-4257-acb3-3b3ff71fcaf5",
   "metadata": {},
   "outputs": [
    {
     "data": {
      "text/html": [
       "<div>\n",
       "<style scoped>\n",
       "    .dataframe tbody tr th:only-of-type {\n",
       "        vertical-align: middle;\n",
       "    }\n",
       "\n",
       "    .dataframe tbody tr th {\n",
       "        vertical-align: top;\n",
       "    }\n",
       "\n",
       "    .dataframe thead th {\n",
       "        text-align: right;\n",
       "    }\n",
       "</style>\n",
       "<table border=\"1\" class=\"dataframe\">\n",
       "  <thead>\n",
       "    <tr style=\"text-align: right;\">\n",
       "      <th></th>\n",
       "      <th>name</th>\n",
       "      <th>frequency</th>\n",
       "      <th>mean_age</th>\n",
       "      <th>gender</th>\n",
       "    </tr>\n",
       "  </thead>\n",
       "  <tbody>\n",
       "    <tr>\n",
       "      <th>0</th>\n",
       "      <td>ANTONIO</td>\n",
       "      <td>715215</td>\n",
       "      <td>54.6</td>\n",
       "      <td>male</td>\n",
       "    </tr>\n",
       "    <tr>\n",
       "      <th>1</th>\n",
       "      <td>JOSE</td>\n",
       "      <td>641525</td>\n",
       "      <td>60.0</td>\n",
       "      <td>male</td>\n",
       "    </tr>\n",
       "    <tr>\n",
       "      <th>2</th>\n",
       "      <td>MANUEL</td>\n",
       "      <td>618891</td>\n",
       "      <td>54.0</td>\n",
       "      <td>male</td>\n",
       "    </tr>\n",
       "    <tr>\n",
       "      <th>3</th>\n",
       "      <td>FRANCISCO</td>\n",
       "      <td>530309</td>\n",
       "      <td>56.0</td>\n",
       "      <td>male</td>\n",
       "    </tr>\n",
       "    <tr>\n",
       "      <th>4</th>\n",
       "      <td>JUAN</td>\n",
       "      <td>367726</td>\n",
       "      <td>54.9</td>\n",
       "      <td>male</td>\n",
       "    </tr>\n",
       "  </tbody>\n",
       "</table>\n",
       "</div>"
      ],
      "text/plain": [
       "        name  frequency  mean_age gender\n",
       "0    ANTONIO     715215      54.6   male\n",
       "1       JOSE     641525      60.0   male\n",
       "2     MANUEL     618891      54.0   male\n",
       "3  FRANCISCO     530309      56.0   male\n",
       "4       JUAN     367726      54.9   male"
      ]
     },
     "execution_count": 2,
     "metadata": {},
     "output_type": "execute_result"
    }
   ],
   "source": [
    "# training data\n",
    "\n",
    "male = pd.read_csv('data/male_names.csv')\n",
    "male['gender'] = 'male'\n",
    "\n",
    "female = pd.read_csv('data/female_names.csv')\n",
    "female['gender'] = 'female'\n",
    "\n",
    "df = pd.concat([male, female])\n",
    "df.head()"
   ]
  },
  {
   "cell_type": "code",
   "execution_count": 3,
   "id": "efd2ad33-fd9e-4473-843b-a88767300716",
   "metadata": {},
   "outputs": [],
   "source": [
    "df[['name', 'gender']]\n",
    "df.to_excel('data/train.xlsx', index=False)"
   ]
  },
  {
   "cell_type": "code",
   "execution_count": 4,
   "id": "04541b7b-cc89-4af9-8ae7-e7375f578863",
   "metadata": {},
   "outputs": [],
   "source": [
    "test = pd.read_excel('data/BASE MAESTRA PREINSCRITOS.xlsx')"
   ]
  },
  {
   "cell_type": "code",
   "execution_count": 5,
   "id": "4642eea3-2232-4daa-b5d9-af61b9a995fb",
   "metadata": {},
   "outputs": [
    {
     "data": {
      "text/plain": [
       "Index(['Marca temporal',\n",
       "       'Autorizo a la Secretaria Distrital De Desarrollo Económico -SDDE y sus aliados en la ejecución de los siguientes programas:\\n· “Bogotá productiva local” el aliado es: PROPAÍS, cuyo objetivo es la capitalización bajo un enfoque de priorización poblacional y territorial con el fin de promover su productividad y sostenibilidad con recursos de capitalización no reembolsables.     \\n· “Camino a la inclusión financiera” el aliado es ASOMICROFIZAS, cuyo objetivo es la formación en educación financiera a los beneficiarios del programa.\\n· “Bogotá produce” el aliado es BANCÓLDEX, cuyo objetivo es obtener financiación a través de créditos.\\n Para el tratamiento de mis datos personales de acuerdo con la normatividad vigente, en la vigencia 2022',\n",
       "       'Declaro bajo la gravedad de juramento que la información suministrada y consignada a continuación es veraz y puede ser comprobada por la Alcaldía Mayor de Bogotá en cualquier momento de la ejecución del programa. Soy responsable de la veracidad y exactitud de todos los datos consignados en el presente registro, en este sentido, me someto a la verificación inopinada que realizará la Alcaldía Mayor de Bogotá, en caso de que se compruebe falsedad en la información que he brindado, perderé mi condición de participante del programa \"Bogotá Productiva Local\".',\n",
       "       '¿Cuenta con un micronegocio activo? Se entiende por micronegocio el desarrollo de una actividad económica, no necesariamente formalizada, que puede llevarse a cabo al interior de una vivienda, un local comercial y/o en el espacio público, etc. Ejemplo de estas actividades económicas son: La pequeña miscelánea o tienda de barrio, las ventas ambulantes, las confecciones al interior de la vivienda, la fabricación de artesanías, el comercio al por menor, los pequeños talleres, entre otras.',\n",
       "       'Tipo de Documento ', 'Número de Identificación',\n",
       "       'Adjunte Imagen de su documento de identidad', 'Primer Nombre',\n",
       "       'Segundo Nombre', 'Primer Apellido', 'Segundo Apellido',\n",
       "       'Sexo de acuerdo con su documento de identidad', 'Fecha de nacimiento',\n",
       "       'Edad', 'Edad calculada', 'Celular 1', 'Celular 2',\n",
       "       '¿Cuenta con servicio de whatsapp activo en su número de celular?',\n",
       "       'Correoelectrónico', 'Confirmesucorreoelectrónico',\n",
       "       '¿Cuenta con acceso a internet?',\n",
       "       '¿Cuenta con acceso a equipo de cómputo o una tablet?',\n",
       "       '¿Cuenta con smartphone/teléfono inteligente/teléfono con acceso a internet?',\n",
       "       '¿Sabe acceder y navegar en internet?',\n",
       "       '¿Qué nivel tiene del manejo de herramientas informáticas? por ejemplo: word, excel, power point, exploradores de internet (google)',\n",
       "       '¿Ha realizado antes procesos de formación virtual?',\n",
       "       '¿Cuánto tiempo semanal está dispuesto a dedicarle a su proceso de formación y asistencia técnica?',\n",
       "       '¿En qué horario se le facilita más su proceso de formación?',\n",
       "       '¿Cuál es su nivel de educación?',\n",
       "       'Pertenece a alguna de las siguientes poblaciones:',\n",
       "       '¿Se encuentra registrado en la plataforma Ruta Bogotá e?',\n",
       "       '¿A qué sector pertenece su negocio?',\n",
       "       '¿Su negocio pertenece a alguno de los siguientes subsectores?',\n",
       "       '¿Cuánto tiempo de operación tiene su micronegocio? ',\n",
       "       'Adjunte Imagen del soporte del inicio de operación de su micronegocio (servirán facturas de compra, contratos de arrendamiento, certificado de proveedores, rut del negocio, certificado de registro mercantil, antigüedad de la tienda virtual o redes sociales del negocio y/o cualquier otro documento con el cual se pueda soportar la antigüedad del mismo)',\n",
       "       '¿En qué localidad está ubicado su micronegocio?', 'Focalizacion',\n",
       "       '¿En qué barrio está ubicado el micronegocio?',\n",
       "       'Relacione la dirección actual del Micronegocio',\n",
       "       'Adjunte Imagen de cualquier recibo público del lugar donde esta ubicado su micronegocio',\n",
       "       '¿Tiene estudios, cursos y/o algún tipo de formación relacionada directamente con la actividad que desarrolla en su negocio?',\n",
       "       '¿Cuántos años de experiencia tiene en el oficio que desarrolla, ya sea como empleado o independiente?',\n",
       "       '¿Entre qué rangos está el valor de ventas promedio mensual de su negocio?',\n",
       "       '¿Tiene un espacio exclusivo para la fabricación de sus productos, en donde cuente con maquinaria y/o equipo?  Por ejemplo: fileteadora, hornos, troqueles, equipos de soldadura, cortadora, etc.',\n",
       "       '¿Cuenta con maquinaria y/o equipos para la venta de su producto o servicio? Por ejemplo: fileteadora, hornos, planchas, secadoras, etc.',\n",
       "       '¿Sus clientes pueden comprarle a través de billeteras digitales como nequi, daviplata, Rappipay, etc?',\n",
       "       '¿Con cuáles billeteras digitales cuenta?',\n",
       "       '¿Para la comercialización de su producto utiliza canales como: instagram, facebook, whatsapp, mercado libre, entre otros?',\n",
       "       '¿Realiza un registro de los costos, gastos y ventas de su micronegocio?',\n",
       "       '¿Maneja sus finanzas personales y los negocios de manera separada?',\n",
       "       '¿Tiene el hábito de ahorrar dinero de manera mensual? ',\n",
       "       'Acepto que el diligenciamiento de la preinscripción e inscripción al Programa Bogotá Productiva Local, así como el recibir el proceso de formación NO me asegura la capitalización con recursos no retornables, por tanto en mi calidad de propietario del micronegocio postulado acepto las características, requisitos y condiciones de la presente convocatoria, así como su proceso de selección y priorización.',\n",
       "       'Fecha Expedición documento Extranjería', 'Clasificacion',\n",
       "       'Rango de Edad', 'CONVOCATORIA', '%AVANCE PRESENCIAL',\n",
       "       '%AVANCE VIRTUAL', 'AUTODIAGNOSTICO', 'ESTADO CC',\n",
       "       'VERIFICACION NOMBRE', 'CRUCE FONDO EMPRENDER', 'CRUCE MUJER',\n",
       "       'PRIORIZADO FDL', 'EMERGENCIA LA CALERA', 'TERMINÓ FORMACION',\n",
       "       'ENVIO INICIAL', 'COHORTE', 'RETIRO(FDL-SDDE)/DEVOLUCION',\n",
       "       'PROPAIS/FDL', 'REPOSICION', 'REPORTADO SUIM', 'REPORTADO SUIM CAP',\n",
       "       'tiempo', 'localidad', 'FECHA MAILLING', 'NIT', 'CAPITALIZADOS',\n",
       "       'ACTIVIDAD QUE REALIZA', 'CONTROL REGISTRO'],\n",
       "      dtype='object')"
      ]
     },
     "execution_count": 5,
     "metadata": {},
     "output_type": "execute_result"
    }
   ],
   "source": [
    "test.columns"
   ]
  },
  {
   "cell_type": "code",
   "execution_count": 6,
   "id": "40673eba-1023-42b9-9943-50c815df90b9",
   "metadata": {},
   "outputs": [
    {
     "name": "stderr",
     "output_type": "stream",
     "text": [
      "/var/folders/7v/mlpbd2vj15s13pz4rjm4bq1m0000gn/T/ipykernel_12325/1991061335.py:1: FutureWarning: Setting an item of incompatible dtype is deprecated and will raise an error in a future version of pandas. Value '' has dtype incompatible with float64, please explicitly cast to a compatible dtype first.\n",
      "  test.fillna('', inplace=True)\n"
     ]
    }
   ],
   "source": [
    "test.fillna('', inplace=True)\n",
    "\n",
    "test['name'] = test['Primer Nombre'].astype('str') + ' ' + test['Segundo Nombre'].astype('str')\n",
    "test['name'] = test['name'].str.strip()\n",
    "\n",
    "test['name'] = test['name'].str.upper()\n",
    "test = test[test['Sexo de acuerdo con su documento de identidad'] != 'Intersexual']\n",
    "test['Sexo de acuerdo con su documento de identidad'] = test['Sexo de acuerdo con su documento de identidad'].replace({'Mujer': 'female', 'Hombre': 'male'})\n",
    "\n",
    "\n",
    "test = test[['name',\n",
    "             'Sexo de acuerdo con su documento de identidad']]\n",
    "\n",
    "test.columns = ['name', 'gender']"
   ]
  },
  {
   "cell_type": "code",
   "execution_count": 7,
   "id": "3db47da5-935c-4271-b419-0eda73b8a629",
   "metadata": {},
   "outputs": [
    {
     "data": {
      "text/plain": [
       "array(['female', 'male'], dtype=object)"
      ]
     },
     "execution_count": 7,
     "metadata": {},
     "output_type": "execute_result"
    }
   ],
   "source": [
    "test['gender'].unique()"
   ]
  },
  {
   "cell_type": "code",
   "execution_count": 8,
   "id": "aee7d363-ef85-44d0-9617-5dc2fa880440",
   "metadata": {},
   "outputs": [
    {
     "data": {
      "text/html": [
       "<div>\n",
       "<style scoped>\n",
       "    .dataframe tbody tr th:only-of-type {\n",
       "        vertical-align: middle;\n",
       "    }\n",
       "\n",
       "    .dataframe tbody tr th {\n",
       "        vertical-align: top;\n",
       "    }\n",
       "\n",
       "    .dataframe thead th {\n",
       "        text-align: right;\n",
       "    }\n",
       "</style>\n",
       "<table border=\"1\" class=\"dataframe\">\n",
       "  <thead>\n",
       "    <tr style=\"text-align: right;\">\n",
       "      <th></th>\n",
       "      <th>name</th>\n",
       "      <th>gender</th>\n",
       "    </tr>\n",
       "  </thead>\n",
       "  <tbody>\n",
       "    <tr>\n",
       "      <th>0</th>\n",
       "      <td>SONIA YANETH</td>\n",
       "      <td>female</td>\n",
       "    </tr>\n",
       "    <tr>\n",
       "      <th>1</th>\n",
       "      <td>BLANCA DORI</td>\n",
       "      <td>female</td>\n",
       "    </tr>\n",
       "    <tr>\n",
       "      <th>2</th>\n",
       "      <td>JAKELINE</td>\n",
       "      <td>female</td>\n",
       "    </tr>\n",
       "    <tr>\n",
       "      <th>3</th>\n",
       "      <td>YENNY EMERITA</td>\n",
       "      <td>female</td>\n",
       "    </tr>\n",
       "    <tr>\n",
       "      <th>4</th>\n",
       "      <td>YURY ALEXANDRA</td>\n",
       "      <td>female</td>\n",
       "    </tr>\n",
       "    <tr>\n",
       "      <th>...</th>\n",
       "      <td>...</td>\n",
       "      <td>...</td>\n",
       "    </tr>\n",
       "    <tr>\n",
       "      <th>57281</th>\n",
       "      <td>MARTHA YOLANDA</td>\n",
       "      <td>female</td>\n",
       "    </tr>\n",
       "    <tr>\n",
       "      <th>57282</th>\n",
       "      <td>YOLIMA</td>\n",
       "      <td>female</td>\n",
       "    </tr>\n",
       "    <tr>\n",
       "      <th>57283</th>\n",
       "      <td>EDILMA</td>\n",
       "      <td>female</td>\n",
       "    </tr>\n",
       "    <tr>\n",
       "      <th>57284</th>\n",
       "      <td>MERCEDES</td>\n",
       "      <td>female</td>\n",
       "    </tr>\n",
       "    <tr>\n",
       "      <th>57285</th>\n",
       "      <td>INGRID YULEY</td>\n",
       "      <td>female</td>\n",
       "    </tr>\n",
       "  </tbody>\n",
       "</table>\n",
       "<p>57205 rows × 2 columns</p>\n",
       "</div>"
      ],
      "text/plain": [
       "                 name  gender\n",
       "0        SONIA YANETH  female\n",
       "1         BLANCA DORI  female\n",
       "2            JAKELINE  female\n",
       "3       YENNY EMERITA  female\n",
       "4      YURY ALEXANDRA  female\n",
       "...               ...     ...\n",
       "57281  MARTHA YOLANDA  female\n",
       "57282          YOLIMA  female\n",
       "57283          EDILMA  female\n",
       "57284        MERCEDES  female\n",
       "57285    INGRID YULEY  female\n",
       "\n",
       "[57205 rows x 2 columns]"
      ]
     },
     "execution_count": 8,
     "metadata": {},
     "output_type": "execute_result"
    }
   ],
   "source": [
    "test"
   ]
  },
  {
   "cell_type": "code",
   "execution_count": 9,
   "id": "5b596428-60a2-4455-b8af-ba1a8a3f5d44",
   "metadata": {},
   "outputs": [],
   "source": [
    "test.to_excel('data/test.xlsx', index=False)"
   ]
  },
  {
   "cell_type": "code",
   "execution_count": null,
   "id": "f993fe88-8b37-45a8-b0b5-3fc45cf7002e",
   "metadata": {},
   "outputs": [],
   "source": []
  }
 ],
 "metadata": {
  "kernelspec": {
   "display_name": "Python 3 (ipykernel)",
   "language": "python",
   "name": "python3"
  },
  "language_info": {
   "codemirror_mode": {
    "name": "ipython",
    "version": 3
   },
   "file_extension": ".py",
   "mimetype": "text/x-python",
   "name": "python",
   "nbconvert_exporter": "python",
   "pygments_lexer": "ipython3",
   "version": "3.11.5"
  }
 },
 "nbformat": 4,
 "nbformat_minor": 5
}
