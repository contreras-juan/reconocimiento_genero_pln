{
 "cells": [
  {
   "cell_type": "markdown",
   "id": "2129c4f5-37fe-4e68-9d4e-7443ac004950",
   "metadata": {},
   "source": [
    "<h1 align='center'> Predictor del sexo de una persona basado en el nombre</h1>"
   ]
  },
  {
   "cell_type": "code",
   "execution_count": 1,
   "id": "f846acd3-6354-4719-b8a3-58968edb8127",
   "metadata": {},
   "outputs": [
    {
     "name": "stderr",
     "output_type": "stream",
     "text": [
      "/var/folders/7v/mlpbd2vj15s13pz4rjm4bq1m0000gn/T/ipykernel_9036/1823354173.py:1: DeprecationWarning: \n",
      "Pyarrow will become a required dependency of pandas in the next major release of pandas (pandas 3.0),\n",
      "(to allow more performant data types, such as the Arrow string type, and better interoperability with other libraries)\n",
      "but was not found to be installed on your system.\n",
      "If this would cause problems for you,\n",
      "please provide us feedback at https://github.com/pandas-dev/pandas/issues/54466\n",
      "        \n",
      "  import pandas as pd\n"
     ]
    }
   ],
   "source": [
    "import pandas as pd\n",
    "from unidecode import unidecode\n",
    "import seaborn as sns\n",
    "import matplotlib.pyplot as plt\n",
    "\n",
    "from sklearn.preprocessing import LabelEncoder\n",
    "from sklearn.feature_extraction.text import CountVectorizer\n",
    "\n",
    "from sklearn.model_selection import train_test_split\n",
    "\n",
    "from sklearn.linear_model import LogisticRegression\n",
    "from sklearn.naive_bayes import MultinomialNB\n",
    "\n",
    "from xgboost import XGBClassifier\n",
    "\n",
    "from sklearn.metrics import confusion_matrix\n",
    "\n",
    "import sklearn.metrics as metrics\n",
    "\n",
    "from tensorflow.keras import models\n",
    "from tensorflow.keras.models import Model\n",
    "from tensorflow.keras.models import load_model\n",
    "from keras.layers import Embedding\n",
    "from tensorflow.keras.layers import Dense, Dropout, Flatten, Input, LeakyReLU\n",
    "from tensorflow.keras.layers import BatchNormalization, Activation, Conv2D \n",
    "from tensorflow.keras.models import Sequential\n",
    "from tensorflow.keras.layers import Dense, Flatten, MaxPooling2D, Dense, Dropout\n",
    "from tensorflow.keras.layers import LSTM\n",
    "import tensorflow as tf\n",
    "\n",
    "import warnings\n",
    "\n",
    "warnings.filterwarnings('ignore')"
   ]
  },
  {
   "cell_type": "code",
   "execution_count": 2,
   "id": "a57b05da-5092-40f7-a3cd-35f647d643b9",
   "metadata": {},
   "outputs": [],
   "source": [
    "tf.config.set_visible_devices([], 'GPU')"
   ]
  },
  {
   "cell_type": "code",
   "execution_count": 3,
   "id": "9e86049a-51ae-4109-8270-a69fbf50ace5",
   "metadata": {},
   "outputs": [
    {
     "data": {
      "text/html": [
       "<div>\n",
       "<style scoped>\n",
       "    .dataframe tbody tr th:only-of-type {\n",
       "        vertical-align: middle;\n",
       "    }\n",
       "\n",
       "    .dataframe tbody tr th {\n",
       "        vertical-align: top;\n",
       "    }\n",
       "\n",
       "    .dataframe thead th {\n",
       "        text-align: right;\n",
       "    }\n",
       "</style>\n",
       "<table border=\"1\" class=\"dataframe\">\n",
       "  <thead>\n",
       "    <tr style=\"text-align: right;\">\n",
       "      <th></th>\n",
       "      <th>name</th>\n",
       "      <th>frequency</th>\n",
       "      <th>mean_age</th>\n",
       "      <th>gender</th>\n",
       "    </tr>\n",
       "  </thead>\n",
       "  <tbody>\n",
       "    <tr>\n",
       "      <th>0</th>\n",
       "      <td>ANTONIO</td>\n",
       "      <td>715215</td>\n",
       "      <td>54.6</td>\n",
       "      <td>HOMBRE</td>\n",
       "    </tr>\n",
       "    <tr>\n",
       "      <th>1</th>\n",
       "      <td>JOSE</td>\n",
       "      <td>641525</td>\n",
       "      <td>60.0</td>\n",
       "      <td>HOMBRE</td>\n",
       "    </tr>\n",
       "    <tr>\n",
       "      <th>2</th>\n",
       "      <td>MANUEL</td>\n",
       "      <td>618891</td>\n",
       "      <td>54.0</td>\n",
       "      <td>HOMBRE</td>\n",
       "    </tr>\n",
       "    <tr>\n",
       "      <th>3</th>\n",
       "      <td>FRANCISCO</td>\n",
       "      <td>530309</td>\n",
       "      <td>56.0</td>\n",
       "      <td>HOMBRE</td>\n",
       "    </tr>\n",
       "    <tr>\n",
       "      <th>4</th>\n",
       "      <td>JUAN</td>\n",
       "      <td>367726</td>\n",
       "      <td>54.9</td>\n",
       "      <td>HOMBRE</td>\n",
       "    </tr>\n",
       "  </tbody>\n",
       "</table>\n",
       "</div>"
      ],
      "text/plain": [
       "        name  frequency  mean_age  gender\n",
       "0    ANTONIO     715215      54.6  HOMBRE\n",
       "1       JOSE     641525      60.0  HOMBRE\n",
       "2     MANUEL     618891      54.0  HOMBRE\n",
       "3  FRANCISCO     530309      56.0  HOMBRE\n",
       "4       JUAN     367726      54.9  HOMBRE"
      ]
     },
     "execution_count": 3,
     "metadata": {},
     "output_type": "execute_result"
    }
   ],
   "source": [
    "#df = pd.read_excel('../SUIM/DATOS SUIM DDEE.xlsx')\n",
    "\n",
    "male = pd.read_csv('male_names.csv')\n",
    "male['gender'] = 'HOMBRE'\n",
    "\n",
    "female = pd.read_csv('female_names.csv')\n",
    "female['gender'] = 'MUJER'\n",
    "\n",
    "df = pd.concat([male, female])\n",
    "df.head()"
   ]
  },
  {
   "cell_type": "code",
   "execution_count": 4,
   "id": "a1dd1082-b2b1-4f7c-bfc2-374887e43c21",
   "metadata": {},
   "outputs": [],
   "source": [
    "df = df[['name', 'gender']]"
   ]
  },
  {
   "cell_type": "code",
   "execution_count": 5,
   "id": "204c8594-c7a6-43af-853b-05f5e374a5a9",
   "metadata": {},
   "outputs": [
    {
     "data": {
      "text/html": [
       "<div>\n",
       "<style scoped>\n",
       "    .dataframe tbody tr th:only-of-type {\n",
       "        vertical-align: middle;\n",
       "    }\n",
       "\n",
       "    .dataframe tbody tr th {\n",
       "        vertical-align: top;\n",
       "    }\n",
       "\n",
       "    .dataframe thead th {\n",
       "        text-align: right;\n",
       "    }\n",
       "</style>\n",
       "<table border=\"1\" class=\"dataframe\">\n",
       "  <thead>\n",
       "    <tr style=\"text-align: right;\">\n",
       "      <th></th>\n",
       "      <th>name</th>\n",
       "      <th>gender</th>\n",
       "    </tr>\n",
       "  </thead>\n",
       "  <tbody>\n",
       "    <tr>\n",
       "      <th>0</th>\n",
       "      <td>ANTONIO</td>\n",
       "      <td>HOMBRE</td>\n",
       "    </tr>\n",
       "    <tr>\n",
       "      <th>1</th>\n",
       "      <td>JOSE</td>\n",
       "      <td>HOMBRE</td>\n",
       "    </tr>\n",
       "    <tr>\n",
       "      <th>2</th>\n",
       "      <td>MANUEL</td>\n",
       "      <td>HOMBRE</td>\n",
       "    </tr>\n",
       "    <tr>\n",
       "      <th>3</th>\n",
       "      <td>FRANCISCO</td>\n",
       "      <td>HOMBRE</td>\n",
       "    </tr>\n",
       "    <tr>\n",
       "      <th>4</th>\n",
       "      <td>JUAN</td>\n",
       "      <td>HOMBRE</td>\n",
       "    </tr>\n",
       "    <tr>\n",
       "      <th>...</th>\n",
       "      <td>...</td>\n",
       "      <td>...</td>\n",
       "    </tr>\n",
       "    <tr>\n",
       "      <th>24751</th>\n",
       "      <td>ZHIHUI</td>\n",
       "      <td>MUJER</td>\n",
       "    </tr>\n",
       "    <tr>\n",
       "      <th>24752</th>\n",
       "      <td>ZOILA ESTHER</td>\n",
       "      <td>MUJER</td>\n",
       "    </tr>\n",
       "    <tr>\n",
       "      <th>24753</th>\n",
       "      <td>ZSANETT</td>\n",
       "      <td>MUJER</td>\n",
       "    </tr>\n",
       "    <tr>\n",
       "      <th>24754</th>\n",
       "      <td>ZULEJA</td>\n",
       "      <td>MUJER</td>\n",
       "    </tr>\n",
       "    <tr>\n",
       "      <th>24755</th>\n",
       "      <td>ZULFIYA</td>\n",
       "      <td>MUJER</td>\n",
       "    </tr>\n",
       "  </tbody>\n",
       "</table>\n",
       "<p>49340 rows × 2 columns</p>\n",
       "</div>"
      ],
      "text/plain": [
       "               name  gender\n",
       "0           ANTONIO  HOMBRE\n",
       "1              JOSE  HOMBRE\n",
       "2            MANUEL  HOMBRE\n",
       "3         FRANCISCO  HOMBRE\n",
       "4              JUAN  HOMBRE\n",
       "...             ...     ...\n",
       "24751        ZHIHUI   MUJER\n",
       "24752  ZOILA ESTHER   MUJER\n",
       "24753       ZSANETT   MUJER\n",
       "24754        ZULEJA   MUJER\n",
       "24755       ZULFIYA   MUJER\n",
       "\n",
       "[49340 rows x 2 columns]"
      ]
     },
     "execution_count": 5,
     "metadata": {},
     "output_type": "execute_result"
    }
   ],
   "source": [
    "df"
   ]
  },
  {
   "cell_type": "code",
   "execution_count": 6,
   "id": "81121342-1fab-459b-9da9-4c75b705f823",
   "metadata": {},
   "outputs": [
    {
     "name": "stdout",
     "output_type": "stream",
     "text": [
      "<class 'pandas.core.frame.DataFrame'>\n",
      "Index: 49340 entries, 0 to 24755\n",
      "Data columns (total 2 columns):\n",
      " #   Column  Non-Null Count  Dtype \n",
      "---  ------  --------------  ----- \n",
      " 0   name    49339 non-null  object\n",
      " 1   gender  49340 non-null  object\n",
      "dtypes: object(2)\n",
      "memory usage: 1.1+ MB\n"
     ]
    }
   ],
   "source": [
    "df.info()"
   ]
  },
  {
   "cell_type": "code",
   "execution_count": 7,
   "id": "050faeb6-2799-4e09-a1d2-2ca220489523",
   "metadata": {},
   "outputs": [
    {
     "data": {
      "text/html": [
       "<div>\n",
       "<style scoped>\n",
       "    .dataframe tbody tr th:only-of-type {\n",
       "        vertical-align: middle;\n",
       "    }\n",
       "\n",
       "    .dataframe tbody tr th {\n",
       "        vertical-align: top;\n",
       "    }\n",
       "\n",
       "    .dataframe thead th {\n",
       "        text-align: right;\n",
       "    }\n",
       "</style>\n",
       "<table border=\"1\" class=\"dataframe\">\n",
       "  <thead>\n",
       "    <tr style=\"text-align: right;\">\n",
       "      <th></th>\n",
       "      <th>name</th>\n",
       "      <th>gender</th>\n",
       "    </tr>\n",
       "  </thead>\n",
       "  <tbody>\n",
       "    <tr>\n",
       "      <th>0</th>\n",
       "      <td>ANTONIO</td>\n",
       "      <td>HOMBRE</td>\n",
       "    </tr>\n",
       "    <tr>\n",
       "      <th>1</th>\n",
       "      <td>JOSE</td>\n",
       "      <td>HOMBRE</td>\n",
       "    </tr>\n",
       "    <tr>\n",
       "      <th>2</th>\n",
       "      <td>MANUEL</td>\n",
       "      <td>HOMBRE</td>\n",
       "    </tr>\n",
       "    <tr>\n",
       "      <th>3</th>\n",
       "      <td>FRANCISCO</td>\n",
       "      <td>HOMBRE</td>\n",
       "    </tr>\n",
       "    <tr>\n",
       "      <th>4</th>\n",
       "      <td>JUAN</td>\n",
       "      <td>HOMBRE</td>\n",
       "    </tr>\n",
       "    <tr>\n",
       "      <th>...</th>\n",
       "      <td>...</td>\n",
       "      <td>...</td>\n",
       "    </tr>\n",
       "    <tr>\n",
       "      <th>24751</th>\n",
       "      <td>ZHIHUI</td>\n",
       "      <td>MUJER</td>\n",
       "    </tr>\n",
       "    <tr>\n",
       "      <th>24752</th>\n",
       "      <td>ZOILA ESTHER</td>\n",
       "      <td>MUJER</td>\n",
       "    </tr>\n",
       "    <tr>\n",
       "      <th>24753</th>\n",
       "      <td>ZSANETT</td>\n",
       "      <td>MUJER</td>\n",
       "    </tr>\n",
       "    <tr>\n",
       "      <th>24754</th>\n",
       "      <td>ZULEJA</td>\n",
       "      <td>MUJER</td>\n",
       "    </tr>\n",
       "    <tr>\n",
       "      <th>24755</th>\n",
       "      <td>ZULFIYA</td>\n",
       "      <td>MUJER</td>\n",
       "    </tr>\n",
       "  </tbody>\n",
       "</table>\n",
       "<p>49340 rows × 2 columns</p>\n",
       "</div>"
      ],
      "text/plain": [
       "               name  gender\n",
       "0           ANTONIO  HOMBRE\n",
       "1              JOSE  HOMBRE\n",
       "2            MANUEL  HOMBRE\n",
       "3         FRANCISCO  HOMBRE\n",
       "4              JUAN  HOMBRE\n",
       "...             ...     ...\n",
       "24751        ZHIHUI   MUJER\n",
       "24752  ZOILA ESTHER   MUJER\n",
       "24753       ZSANETT   MUJER\n",
       "24754        ZULEJA   MUJER\n",
       "24755       ZULFIYA   MUJER\n",
       "\n",
       "[49340 rows x 2 columns]"
      ]
     },
     "execution_count": 7,
     "metadata": {},
     "output_type": "execute_result"
    }
   ],
   "source": [
    "df"
   ]
  },
  {
   "cell_type": "code",
   "execution_count": 8,
   "id": "12dc872d-fd35-4b6c-b98f-ddf717cb59b8",
   "metadata": {},
   "outputs": [
    {
     "name": "stdout",
     "output_type": "stream",
     "text": [
      "<class 'pandas.core.frame.DataFrame'>\n",
      "Index: 49340 entries, 0 to 24755\n",
      "Data columns (total 2 columns):\n",
      " #   Column  Non-Null Count  Dtype \n",
      "---  ------  --------------  ----- \n",
      " 0   name    49339 non-null  object\n",
      " 1   gender  49340 non-null  object\n",
      "dtypes: object(2)\n",
      "memory usage: 1.1+ MB\n"
     ]
    }
   ],
   "source": [
    "df.info()"
   ]
  },
  {
   "cell_type": "code",
   "execution_count": 9,
   "id": "a7f8ee19-de7b-490f-b896-17128733aef3",
   "metadata": {},
   "outputs": [
    {
     "data": {
      "text/html": [
       "<div>\n",
       "<style scoped>\n",
       "    .dataframe tbody tr th:only-of-type {\n",
       "        vertical-align: middle;\n",
       "    }\n",
       "\n",
       "    .dataframe tbody tr th {\n",
       "        vertical-align: top;\n",
       "    }\n",
       "\n",
       "    .dataframe thead th {\n",
       "        text-align: right;\n",
       "    }\n",
       "</style>\n",
       "<table border=\"1\" class=\"dataframe\">\n",
       "  <thead>\n",
       "    <tr style=\"text-align: right;\">\n",
       "      <th></th>\n",
       "      <th>name</th>\n",
       "      <th>gender</th>\n",
       "    </tr>\n",
       "  </thead>\n",
       "  <tbody>\n",
       "    <tr>\n",
       "      <th>5593</th>\n",
       "      <td>NaN</td>\n",
       "      <td>MUJER</td>\n",
       "    </tr>\n",
       "  </tbody>\n",
       "</table>\n",
       "</div>"
      ],
      "text/plain": [
       "     name gender\n",
       "5593  NaN  MUJER"
      ]
     },
     "execution_count": 9,
     "metadata": {},
     "output_type": "execute_result"
    }
   ],
   "source": [
    "df[df['name'].isna()]"
   ]
  },
  {
   "cell_type": "code",
   "execution_count": 10,
   "id": "de557a25-8a9c-4652-af8b-87d00e400cf4",
   "metadata": {},
   "outputs": [],
   "source": [
    "df.dropna(inplace=True)"
   ]
  },
  {
   "cell_type": "code",
   "execution_count": 11,
   "id": "3b5b5927-9dff-49fa-9753-cccc1cc0b4c1",
   "metadata": {},
   "outputs": [],
   "source": [
    "df['name'] = df['name'].apply(unidecode)"
   ]
  },
  {
   "cell_type": "code",
   "execution_count": 12,
   "id": "ce019065-b6db-4054-941e-6833124d2f3f",
   "metadata": {},
   "outputs": [
    {
     "data": {
      "text/html": [
       "<div>\n",
       "<style scoped>\n",
       "    .dataframe tbody tr th:only-of-type {\n",
       "        vertical-align: middle;\n",
       "    }\n",
       "\n",
       "    .dataframe tbody tr th {\n",
       "        vertical-align: top;\n",
       "    }\n",
       "\n",
       "    .dataframe thead th {\n",
       "        text-align: right;\n",
       "    }\n",
       "</style>\n",
       "<table border=\"1\" class=\"dataframe\">\n",
       "  <thead>\n",
       "    <tr style=\"text-align: right;\">\n",
       "      <th></th>\n",
       "      <th>name</th>\n",
       "      <th>gender</th>\n",
       "    </tr>\n",
       "  </thead>\n",
       "  <tbody>\n",
       "    <tr>\n",
       "      <th>0</th>\n",
       "      <td>ANTONIO</td>\n",
       "      <td>HOMBRE</td>\n",
       "    </tr>\n",
       "    <tr>\n",
       "      <th>1</th>\n",
       "      <td>JOSE</td>\n",
       "      <td>HOMBRE</td>\n",
       "    </tr>\n",
       "    <tr>\n",
       "      <th>2</th>\n",
       "      <td>MANUEL</td>\n",
       "      <td>HOMBRE</td>\n",
       "    </tr>\n",
       "    <tr>\n",
       "      <th>3</th>\n",
       "      <td>FRANCISCO</td>\n",
       "      <td>HOMBRE</td>\n",
       "    </tr>\n",
       "    <tr>\n",
       "      <th>4</th>\n",
       "      <td>JUAN</td>\n",
       "      <td>HOMBRE</td>\n",
       "    </tr>\n",
       "    <tr>\n",
       "      <th>...</th>\n",
       "      <td>...</td>\n",
       "      <td>...</td>\n",
       "    </tr>\n",
       "    <tr>\n",
       "      <th>24751</th>\n",
       "      <td>ZHIHUI</td>\n",
       "      <td>MUJER</td>\n",
       "    </tr>\n",
       "    <tr>\n",
       "      <th>24752</th>\n",
       "      <td>ZOILA ESTHER</td>\n",
       "      <td>MUJER</td>\n",
       "    </tr>\n",
       "    <tr>\n",
       "      <th>24753</th>\n",
       "      <td>ZSANETT</td>\n",
       "      <td>MUJER</td>\n",
       "    </tr>\n",
       "    <tr>\n",
       "      <th>24754</th>\n",
       "      <td>ZULEJA</td>\n",
       "      <td>MUJER</td>\n",
       "    </tr>\n",
       "    <tr>\n",
       "      <th>24755</th>\n",
       "      <td>ZULFIYA</td>\n",
       "      <td>MUJER</td>\n",
       "    </tr>\n",
       "  </tbody>\n",
       "</table>\n",
       "<p>49339 rows × 2 columns</p>\n",
       "</div>"
      ],
      "text/plain": [
       "               name  gender\n",
       "0           ANTONIO  HOMBRE\n",
       "1              JOSE  HOMBRE\n",
       "2            MANUEL  HOMBRE\n",
       "3         FRANCISCO  HOMBRE\n",
       "4              JUAN  HOMBRE\n",
       "...             ...     ...\n",
       "24751        ZHIHUI   MUJER\n",
       "24752  ZOILA ESTHER   MUJER\n",
       "24753       ZSANETT   MUJER\n",
       "24754        ZULEJA   MUJER\n",
       "24755       ZULFIYA   MUJER\n",
       "\n",
       "[49339 rows x 2 columns]"
      ]
     },
     "execution_count": 12,
     "metadata": {},
     "output_type": "execute_result"
    }
   ],
   "source": [
    "df"
   ]
  },
  {
   "cell_type": "code",
   "execution_count": 13,
   "id": "9bc4ce1f-bdb7-4c63-896d-f853b4bdb83c",
   "metadata": {},
   "outputs": [
    {
     "data": {
      "text/plain": [
       "<Axes: xlabel='gender', ylabel='count'>"
      ]
     },
     "execution_count": 13,
     "metadata": {},
     "output_type": "execute_result"
    },
    {
     "data": {
      "image/png": "[encoded data removed]",
      "text/plain": [
       "<Figure size 640x480 with 1 Axes>"
      ]
     },
     "metadata": {},
     "output_type": "display_data"
    }
   ],
   "source": [
    "sns.countplot(x='gender', data = df)"
   ]
  },
  {
   "cell_type": "code",
   "execution_count": 14,
   "id": "0ba8fb3a-b3e9-4f64-96c4-25446f2f298c",
   "metadata": {},
   "outputs": [
    {
     "data": {
      "text/plain": [
       "(49339, 2)"
      ]
     },
     "execution_count": 14,
     "metadata": {},
     "output_type": "execute_result"
    }
   ],
   "source": [
    "df.shape"
   ]
  },
  {
   "cell_type": "code",
   "execution_count": 15,
   "id": "5b4903ad-3e22-4a31-b8a6-fae8fdd3eba1",
   "metadata": {},
   "outputs": [
    {
     "name": "stdout",
     "output_type": "stream",
     "text": [
      "{'A': 6182, 'B': 1402, 'C': 3012, 'D': 2131, 'E': 2671, 'F': 1766, 'G': 1835, 'H': 1053, 'I': 1764, 'J': 4254, 'K': 831, 'L': 2455, 'M': 6455, 'N': 1652, 'O': 679, 'P': 1508, 'Q': 73, 'R': 2584, 'S': 2865, 'T': 835, 'U': 119, 'V': 1139, 'W': 424, 'X': 340, 'Y': 908, 'Z': 402}\n"
     ]
    }
   ],
   "source": [
    "alphabets= ['A','B','C','D','E','F','G','H','I','J','K','L','M','N','O','P',\n",
    "\n",
    "            'Q','R','S','T','U','V','W','X','Y','Z']\n",
    "\n",
    "startletter_count = {}\n",
    "\n",
    "for i in alphabets:\n",
    "\n",
    "    startletter_count[i] = len(df[df['name'].str.startswith(i)])\n",
    "\n",
    "print(startletter_count)"
   ]
  },
  {
   "cell_type": "code",
   "execution_count": 16,
   "id": "e9c12f2d-3e5b-43b3-9e43-b49d536abfc0",
   "metadata": {},
   "outputs": [],
   "source": [
    "hombre = df[df['gender']=='HOMBRE']\n",
    "mujer = df[df['gender']=='MUJER']"
   ]
  },
  {
   "cell_type": "code",
   "execution_count": 17,
   "id": "7454c9ba-8368-4ff3-afd9-7d579c60d1e4",
   "metadata": {},
   "outputs": [],
   "source": [
    "hombre_count = {}\n",
    "for i in alphabets:\n",
    "\n",
    "    hombre_count[i] = len(hombre[hombre['name'].str.startswith(i)])\n",
    "\n",
    "mujer_count = {}\n",
    "for i in alphabets:\n",
    "\n",
    "    mujer_count[i] = len(mujer[mujer['name'].str.startswith(i)])"
   ]
  },
  {
   "cell_type": "code",
   "execution_count": 18,
   "id": "0688793e-4420-49a2-ac33-3040e28a5618",
   "metadata": {},
   "outputs": [
    {
     "data": {
      "text/plain": [
       "Text(0.5, 1.0, 'Number of names starting with each letter')"
      ]
     },
     "execution_count": 18,
     "metadata": {},
     "output_type": "execute_result"
    },
    {
     "data": {
      "image/png": "[encoded data removed]",
      "text/plain": [
       "<Figure size 1600x800 with 1 Axes>"
      ]
     },
     "metadata": {},
     "output_type": "display_data"
    }
   ],
   "source": [
    "plt.figure(figsize = (16,8))\n",
    "\n",
    "plt.bar(hombre_count.keys(),hombre_count.values())\n",
    "\n",
    "plt.xlabel('Starting alphabet')\n",
    "\n",
    "plt.ylabel('No. of names')\n",
    "\n",
    "plt.title('Number of names starting with each letter')"
   ]
  },
  {
   "cell_type": "code",
   "execution_count": 19,
   "id": "4359086d-ddac-4789-b7d5-c24f71236205",
   "metadata": {},
   "outputs": [
    {
     "data": {
      "text/plain": [
       "Text(0.5, 1.0, 'Number of names starting with each letter')"
      ]
     },
     "execution_count": 19,
     "metadata": {},
     "output_type": "execute_result"
    },
    {
     "data": {
      "image/png": "[encoded data removed]",
      "text/plain": [
       "<Figure size 1600x800 with 1 Axes>"
      ]
     },
     "metadata": {},
     "output_type": "display_data"
    }
   ],
   "source": [
    "plt.figure(figsize = (16,8))\n",
    "\n",
    "plt.bar(mujer_count.keys(), mujer_count.values())\n",
    "\n",
    "plt.xlabel('Starting alphabet')\n",
    "\n",
    "plt.ylabel('No. of names')\n",
    "\n",
    "plt.title('Number of names starting with each letter')"
   ]
  },
  {
   "cell_type": "code",
   "execution_count": 20,
   "id": "1c27ef75-bc12-4961-afd2-917985eda1e2",
   "metadata": {},
   "outputs": [],
   "source": [
    "mujer_end_count ={}\n",
    "\n",
    "for i in alphabets:\n",
    "\n",
    "    mujer_end_count[i]=len(mujer[mujer['name'].str.endswith(i)])\n",
    "\n",
    "\n",
    "hombre_end_count ={}\n",
    "\n",
    "for i in alphabets:\n",
    "\n",
    "    hombre_end_count[i]=len(hombre[hombre['name'].str.endswith(i)])"
   ]
  },
  {
   "cell_type": "code",
   "execution_count": 21,
   "id": "29faebea-072d-40d1-891d-3269fedaafc4",
   "metadata": {},
   "outputs": [
    {
     "data": {
      "text/plain": [
       "Text(0.5, 1.0, 'Number of names starting with each letter')"
      ]
     },
     "execution_count": 21,
     "metadata": {},
     "output_type": "execute_result"
    },
    {
     "data": {
      "image/png": "[encoded data removed]",
      "text/plain": [
       "<Figure size 1600x800 with 1 Axes>"
      ]
     },
     "metadata": {},
     "output_type": "display_data"
    }
   ],
   "source": [
    "plt.figure(figsize = (16,8))\n",
    "\n",
    "plt.bar(mujer_end_count.keys(), mujer_end_count.values())\n",
    "\n",
    "plt.xlabel('Starting alphabet')\n",
    "\n",
    "plt.ylabel('No. of names')\n",
    "\n",
    "plt.title('Number of names starting with each letter')"
   ]
  },
  {
   "cell_type": "code",
   "execution_count": 22,
   "id": "31fe7ae8-9d99-48ef-8e13-cdf20166656a",
   "metadata": {},
   "outputs": [
    {
     "data": {
      "text/plain": [
       "Text(0.5, 1.0, 'Number of names starting with each letter')"
      ]
     },
     "execution_count": 22,
     "metadata": {},
     "output_type": "execute_result"
    },
    {
     "data": {
      "image/png": "[encoded data removed]",
      "text/plain": [
       "<Figure size 1600x800 with 1 Axes>"
      ]
     },
     "metadata": {},
     "output_type": "display_data"
    }
   ],
   "source": [
    "plt.figure(figsize = (16,8))\n",
    "\n",
    "plt.bar(hombre_end_count.keys(), hombre_end_count.values())\n",
    "\n",
    "plt.xlabel('Starting alphabet')\n",
    "\n",
    "plt.ylabel('No. of names')\n",
    "\n",
    "plt.title('Number of names starting with each letter')"
   ]
  },
  {
   "cell_type": "code",
   "execution_count": 23,
   "id": "3e760557-3f48-469e-b714-4645d89bfb63",
   "metadata": {},
   "outputs": [],
   "source": [
    "X =list(df['name'])\n",
    "\n",
    "Y = list(df['gender'])"
   ]
  },
  {
   "cell_type": "code",
   "execution_count": 24,
   "id": "0a9d25dc-2986-4c8d-93ab-a6032647d526",
   "metadata": {},
   "outputs": [],
   "source": [
    "encoder= LabelEncoder()\n",
    "\n",
    "Y = encoder.fit_transform(Y)"
   ]
  },
  {
   "cell_type": "code",
   "execution_count": 25,
   "id": "50bcb608-8764-4bdf-b2b6-c6cdda310483",
   "metadata": {},
   "outputs": [
    {
     "data": {
      "text/plain": [
       "array([0, 0, 0, ..., 1, 1, 1])"
      ]
     },
     "execution_count": 25,
     "metadata": {},
     "output_type": "execute_result"
    }
   ],
   "source": [
    "Y"
   ]
  },
  {
   "cell_type": "code",
   "execution_count": 26,
   "id": "0312a012-2da8-4bc3-8257-2840f17550cb",
   "metadata": {},
   "outputs": [],
   "source": [
    "cv=CountVectorizer(analyzer='char')\n",
    "\n",
    "X=cv.fit_transform(X).toarray()"
   ]
  },
  {
   "cell_type": "code",
   "execution_count": 27,
   "id": "a38f8403-673e-4604-9d5c-6c885efb21e0",
   "metadata": {},
   "outputs": [
    {
     "data": {
      "text/plain": [
       "array([[0, 0, 1, ..., 0, 0, 0],\n",
       "       [0, 0, 0, ..., 0, 0, 0],\n",
       "       [0, 0, 1, ..., 0, 0, 0],\n",
       "       ...,\n",
       "       [0, 0, 1, ..., 0, 0, 1],\n",
       "       [0, 0, 1, ..., 0, 0, 1],\n",
       "       [0, 0, 1, ..., 0, 1, 1]])"
      ]
     },
     "execution_count": 27,
     "metadata": {},
     "output_type": "execute_result"
    }
   ],
   "source": [
    "X"
   ]
  },
  {
   "cell_type": "code",
   "execution_count": 28,
   "id": "3bd81410-9607-4e0f-a17f-e91c4d77bf96",
   "metadata": {},
   "outputs": [],
   "source": [
    "x_train, x_test, y_train, y_test = train_test_split(X, Y, test_size=0.33, random_state=42)"
   ]
  },
  {
   "cell_type": "code",
   "execution_count": 29,
   "id": "9e755da8-ed7b-4823-bbed-0bcfb57502ec",
   "metadata": {},
   "outputs": [],
   "source": [
    "LR_model= LogisticRegression()\n",
    "\n",
    "LR_model.fit(x_train,y_train)\n",
    "\n",
    "LR_y_pred = LR_model.predict(x_test)"
   ]
  },
  {
   "cell_type": "code",
   "execution_count": 30,
   "id": "4e30e60d-3bfb-4680-80fa-a4e99c509623",
   "metadata": {},
   "outputs": [],
   "source": [
    "NB_model= MultinomialNB()\n",
    "\n",
    "NB_model.fit(x_train,y_train)\n",
    "\n",
    "NB_y_pred = NB_model.predict(x_test)"
   ]
  },
  {
   "cell_type": "code",
   "execution_count": 31,
   "id": "e6245c96-59bc-4662-865a-53d23d808e7b",
   "metadata": {},
   "outputs": [],
   "source": [
    "XGB_model = XGBClassifier(use_label_encoder= False)\n",
    "\n",
    "XGB_model.fit(x_train,y_train)\n",
    "\n",
    "XGB_y_pred = XGB_model.predict(x_test)"
   ]
  },
  {
   "cell_type": "code",
   "execution_count": 32,
   "id": "33178a15-e464-4e12-8b12-26559313b0b7",
   "metadata": {},
   "outputs": [],
   "source": [
    "def cmatrix(model):\n",
    "\n",
    "    y_pred = model.predict(x_test)\n",
    "\n",
    "    cmatrix = confusion_matrix(y_test, y_pred)\n",
    "\n",
    "    print(cmatrix)\n",
    "\n",
    "    sns.heatmap(cmatrix,fmt='d',cmap='BuPu',annot=True)\n",
    "\n",
    "    plt.xlabel('Predicted Values')\n",
    "\n",
    "    plt.ylabel('Actual Values')\n",
    "\n",
    "    plt.title('Confusion Matrix')"
   ]
  },
  {
   "cell_type": "code",
   "execution_count": 33,
   "id": "cdf3e54b-b5e5-437b-8fbd-68454d740196",
   "metadata": {},
   "outputs": [
    {
     "name": "stdout",
     "output_type": "stream",
     "text": [
      "0.7621299594644393\n",
      "              precision    recall  f1-score   support\n",
      "\n",
      "           0       0.76      0.76      0.76      8094\n",
      "           1       0.76      0.76      0.76      8188\n",
      "\n",
      "    accuracy                           0.76     16282\n",
      "   macro avg       0.76      0.76      0.76     16282\n",
      "weighted avg       0.76      0.76      0.76     16282\n",
      "\n",
      "[[6172 1922]\n",
      " [1951 6237]]\n",
      "None\n"
     ]
    },
    {
     "data": {
      "image/png": "[encoded data removed]",
      "text/plain": [
       "<Figure size 640x480 with 2 Axes>"
      ]
     },
     "metadata": {},
     "output_type": "display_data"
    }
   ],
   "source": [
    "print(metrics.accuracy_score(LR_y_pred,y_test))\n",
    "\n",
    "print(metrics.classification_report(y_test, LR_y_pred))\n",
    "\n",
    "print(cmatrix(LR_model))"
   ]
  },
  {
   "cell_type": "code",
   "execution_count": 34,
   "id": "9422e25b-00d3-441c-9bf7-244529c97f47",
   "metadata": {},
   "outputs": [
    {
     "name": "stdout",
     "output_type": "stream",
     "text": [
      "0.7263849649920158\n",
      "              precision    recall  f1-score   support\n",
      "\n",
      "           0       0.73      0.71      0.72      8094\n",
      "           1       0.72      0.74      0.73      8188\n",
      "\n",
      "    accuracy                           0.73     16282\n",
      "   macro avg       0.73      0.73      0.73     16282\n",
      "weighted avg       0.73      0.73      0.73     16282\n",
      "\n",
      "[[5747 2347]\n",
      " [2108 6080]]\n",
      "None\n"
     ]
    },
    {
     "data": {
      "image/png": "[encoded data removed]",
      "text/plain": [
       "<Figure size 640x480 with 2 Axes>"
      ]
     },
     "metadata": {},
     "output_type": "display_data"
    }
   ],
   "source": [
    "print(metrics.accuracy_score(NB_y_pred,y_test))\n",
    "\n",
    "print(metrics.classification_report(y_test, NB_y_pred))\n",
    "\n",
    "print(cmatrix(NB_model))"
   ]
  },
  {
   "cell_type": "code",
   "execution_count": 35,
   "id": "f5d30704-6ff7-450a-92f5-89d68fa919e5",
   "metadata": {},
   "outputs": [
    {
     "name": "stdout",
     "output_type": "stream",
     "text": [
      "0.8387790197764402\n",
      "              precision    recall  f1-score   support\n",
      "\n",
      "           0       0.84      0.84      0.84      8094\n",
      "           1       0.84      0.84      0.84      8188\n",
      "\n",
      "    accuracy                           0.84     16282\n",
      "   macro avg       0.84      0.84      0.84     16282\n",
      "weighted avg       0.84      0.84      0.84     16282\n",
      "\n",
      "[[6771 1323]\n",
      " [1302 6886]]\n",
      "None\n"
     ]
    },
    {
     "data": {
      "image/png": "[encoded data removed]",
      "text/plain": [
       "<Figure size 640x480 with 2 Axes>"
      ]
     },
     "metadata": {},
     "output_type": "display_data"
    }
   ],
   "source": [
    "print(metrics.accuracy_score(XGB_y_pred,y_test))\n",
    "\n",
    "print(metrics.classification_report(y_test, XGB_y_pred))\n",
    "\n",
    "print(cmatrix(XGB_model))"
   ]
  },
  {
   "cell_type": "code",
   "execution_count": 36,
   "id": "6f25e56c-e4a4-424b-9ea9-689f50a6374f",
   "metadata": {},
   "outputs": [
    {
     "data": {
      "text/plain": [
       "(33057, 28)"
      ]
     },
     "execution_count": 36,
     "metadata": {},
     "output_type": "execute_result"
    }
   ],
   "source": [
    "x_train.shape"
   ]
  },
  {
   "cell_type": "code",
   "execution_count": 37,
   "id": "64998356-522f-43b8-bf9a-86c6c336b6ca",
   "metadata": {},
   "outputs": [
    {
     "data": {
      "text/plain": [
       "array([[0, 0, 1, ..., 0, 0, 0],\n",
       "       [0, 0, 0, ..., 0, 0, 0],\n",
       "       [0, 0, 1, ..., 0, 0, 0],\n",
       "       ...,\n",
       "       [0, 0, 1, ..., 0, 0, 1],\n",
       "       [0, 0, 1, ..., 0, 0, 1],\n",
       "       [0, 0, 1, ..., 0, 1, 1]])"
      ]
     },
     "execution_count": 37,
     "metadata": {},
     "output_type": "execute_result"
    }
   ],
   "source": [
    "X"
   ]
  },
  {
   "cell_type": "code",
   "execution_count": 38,
   "id": "a3a0f62a-6eef-41ac-8c97-57683d49925b",
   "metadata": {},
   "outputs": [
    {
     "data": {
      "text/plain": [
       "(49339, 2)"
      ]
     },
     "execution_count": 38,
     "metadata": {},
     "output_type": "execute_result"
    }
   ],
   "source": [
    "df.shape"
   ]
  },
  {
   "cell_type": "code",
   "execution_count": 39,
   "id": "a036a465-8391-4fe7-97c0-27834584148d",
   "metadata": {},
   "outputs": [
    {
     "name": "stdout",
     "output_type": "stream",
     "text": [
      "Model: \"sequential\"\n",
      "_________________________________________________________________\n",
      " Layer (type)                Output Shape              Param #   \n",
      "=================================================================\n",
      " embedding (Embedding)       (None, 1, 40)             1322280   \n",
      "                                                                 \n",
      " dropout (Dropout)           (None, 1, 40)             0         \n",
      "                                                                 \n",
      " lstm (LSTM)                 (None, 100)               56400     \n",
      "                                                                 \n",
      " dropout_1 (Dropout)         (None, 100)               0         \n",
      "                                                                 \n",
      " dense (Dense)               (None, 64)                6464      \n",
      "                                                                 \n",
      " dropout_2 (Dropout)         (None, 64)                0         \n",
      "                                                                 \n",
      " dense_1 (Dense)             (None, 1)                 65        \n",
      "                                                                 \n",
      "=================================================================\n",
      "Total params: 1385209 (5.28 MB)\n",
      "Trainable params: 1385209 (5.28 MB)\n",
      "Non-trainable params: 0 (0.00 Byte)\n",
      "_________________________________________________________________\n",
      "None\n"
     ]
    }
   ],
   "source": [
    "voc_size = x_train.shape[0]\n",
    "\n",
    "LSTM_model = Sequential()\n",
    "\n",
    "LSTM_model.add(Embedding(voc_size,40,input_length=1))\n",
    "\n",
    "LSTM_model.add(Dropout(0.3))\n",
    "\n",
    "LSTM_model.add(LSTM(100))\n",
    "\n",
    "LSTM_model.add(Dropout(0.3))\n",
    "\n",
    "LSTM_model.add(Dense(64,activation='relu'))\n",
    "\n",
    "LSTM_model.add(Dropout(0.3))\n",
    "\n",
    "LSTM_model.add(Dense(1,activation='sigmoid'))\n",
    "\n",
    "LSTM_model.compile(loss='binary_crossentropy',optimizer='adam',metrics=['accuracy'])\n",
    "\n",
    "print(LSTM_model.summary())"
   ]
  },
  {
   "cell_type": "code",
   "execution_count": 40,
   "id": "25d057dc-f41f-438b-ae31-b4ba688e9970",
   "metadata": {},
   "outputs": [
    {
     "name": "stdout",
     "output_type": "stream",
     "text": [
      "Epoch 1/100\n",
      "517/517 [==============================] - 11s 20ms/step - loss: 0.6211 - accuracy: 0.6395\n",
      "Epoch 2/100\n",
      "517/517 [==============================] - 11s 22ms/step - loss: 0.5701 - accuracy: 0.6937\n",
      "Epoch 3/100\n",
      "517/517 [==============================] - 12s 23ms/step - loss: 0.5531 - accuracy: 0.7081\n",
      "Epoch 4/100\n",
      "517/517 [==============================] - 12s 22ms/step - loss: 0.5399 - accuracy: 0.7197\n",
      "Epoch 5/100\n",
      "517/517 [==============================] - 13s 25ms/step - loss: 0.5303 - accuracy: 0.7241\n",
      "Epoch 6/100\n",
      "517/517 [==============================] - 13s 25ms/step - loss: 0.5217 - accuracy: 0.7316\n",
      "Epoch 7/100\n",
      "517/517 [==============================] - 14s 27ms/step - loss: 0.5134 - accuracy: 0.7368\n",
      "Epoch 8/100\n",
      "517/517 [==============================] - 14s 27ms/step - loss: 0.4971 - accuracy: 0.7459\n",
      "Epoch 9/100\n",
      "517/517 [==============================] - 13s 24ms/step - loss: 0.4876 - accuracy: 0.7515\n",
      "Epoch 10/100\n",
      "517/517 [==============================] - 13s 24ms/step - loss: 0.4731 - accuracy: 0.7612\n",
      "Epoch 11/100\n",
      "517/517 [==============================] - 14s 27ms/step - loss: 0.4613 - accuracy: 0.7675\n",
      "Epoch 12/100\n",
      "517/517 [==============================] - 13s 24ms/step - loss: 0.4510 - accuracy: 0.7752\n",
      "Epoch 13/100\n",
      "517/517 [==============================] - 42s 81ms/step - loss: 0.4410 - accuracy: 0.7815\n",
      "Epoch 14/100\n",
      "517/517 [==============================] - 13s 25ms/step - loss: 0.4352 - accuracy: 0.7841\n",
      "Epoch 15/100\n",
      "517/517 [==============================] - 12s 23ms/step - loss: 0.4210 - accuracy: 0.7938\n",
      "Epoch 16/100\n",
      "517/517 [==============================] - 12s 24ms/step - loss: 0.4159 - accuracy: 0.7952\n",
      "Epoch 17/100\n",
      "517/517 [==============================] - 12s 24ms/step - loss: 0.4088 - accuracy: 0.7998\n",
      "Epoch 18/100\n",
      "517/517 [==============================] - 12s 23ms/step - loss: 0.4012 - accuracy: 0.8025\n",
      "Epoch 19/100\n",
      "517/517 [==============================] - 12s 23ms/step - loss: 0.3918 - accuracy: 0.8083\n",
      "Epoch 20/100\n",
      "517/517 [==============================] - 12s 23ms/step - loss: 0.3841 - accuracy: 0.8130\n",
      "Epoch 21/100\n",
      "517/517 [==============================] - 12s 24ms/step - loss: 0.3796 - accuracy: 0.8158\n",
      "Epoch 22/100\n",
      "517/517 [==============================] - 13s 24ms/step - loss: 0.3710 - accuracy: 0.8190\n",
      "Epoch 23/100\n",
      "517/517 [==============================] - 13s 25ms/step - loss: 0.3644 - accuracy: 0.8230\n",
      "Epoch 24/100\n",
      "517/517 [==============================] - 12s 24ms/step - loss: 0.3578 - accuracy: 0.8251\n",
      "Epoch 25/100\n",
      "517/517 [==============================] - 13s 24ms/step - loss: 0.3547 - accuracy: 0.8288\n",
      "Epoch 26/100\n",
      "517/517 [==============================] - 12s 24ms/step - loss: 0.3474 - accuracy: 0.8300\n",
      "Epoch 27/100\n",
      "517/517 [==============================] - 12s 24ms/step - loss: 0.3404 - accuracy: 0.8332\n",
      "Epoch 28/100\n",
      "517/517 [==============================] - 12s 24ms/step - loss: 0.3374 - accuracy: 0.8375\n",
      "Epoch 29/100\n",
      "517/517 [==============================] - 12s 24ms/step - loss: 0.3314 - accuracy: 0.8380\n",
      "Epoch 30/100\n",
      "517/517 [==============================] - 13s 25ms/step - loss: 0.3256 - accuracy: 0.8415\n",
      "Epoch 31/100\n",
      "517/517 [==============================] - 13s 25ms/step - loss: 0.3203 - accuracy: 0.8437\n",
      "Epoch 32/100\n",
      "517/517 [==============================] - 13s 24ms/step - loss: 0.3156 - accuracy: 0.8448\n",
      "Epoch 33/100\n",
      "517/517 [==============================] - 13s 24ms/step - loss: 0.3119 - accuracy: 0.8466\n",
      "Epoch 34/100\n",
      "517/517 [==============================] - 13s 25ms/step - loss: 0.3050 - accuracy: 0.8517\n",
      "Epoch 35/100\n",
      "517/517 [==============================] - 12s 23ms/step - loss: 0.3021 - accuracy: 0.8527\n",
      "Epoch 36/100\n",
      "517/517 [==============================] - 12s 24ms/step - loss: 0.2981 - accuracy: 0.8541\n",
      "Epoch 37/100\n",
      "517/517 [==============================] - 13s 24ms/step - loss: 0.2938 - accuracy: 0.8597\n",
      "Epoch 38/100\n",
      "517/517 [==============================] - 13s 26ms/step - loss: 0.2893 - accuracy: 0.8580\n",
      "Epoch 39/100\n",
      "517/517 [==============================] - 14s 27ms/step - loss: 0.2839 - accuracy: 0.8591\n",
      "Epoch 40/100\n",
      "517/517 [==============================] - 12s 24ms/step - loss: 0.2791 - accuracy: 0.8637\n",
      "Epoch 41/100\n",
      "517/517 [==============================] - 12s 24ms/step - loss: 0.2782 - accuracy: 0.8628\n",
      "Epoch 42/100\n",
      "517/517 [==============================] - 12s 23ms/step - loss: 0.2699 - accuracy: 0.8672\n",
      "Epoch 43/100\n",
      "517/517 [==============================] - 13s 25ms/step - loss: 0.2684 - accuracy: 0.8686\n",
      "Epoch 44/100\n",
      "517/517 [==============================] - 12s 24ms/step - loss: 0.2653 - accuracy: 0.8686\n",
      "Epoch 45/100\n",
      "517/517 [==============================] - 12s 23ms/step - loss: 0.2610 - accuracy: 0.8716\n",
      "Epoch 46/100\n",
      "517/517 [==============================] - 12s 23ms/step - loss: 0.2589 - accuracy: 0.8724\n",
      "Epoch 47/100\n",
      "517/517 [==============================] - 12s 23ms/step - loss: 0.2577 - accuracy: 0.8732\n",
      "Epoch 48/100\n",
      "517/517 [==============================] - 11s 22ms/step - loss: 0.2546 - accuracy: 0.8737\n",
      "Epoch 49/100\n",
      "517/517 [==============================] - 11s 22ms/step - loss: 0.2524 - accuracy: 0.8755\n",
      "Epoch 50/100\n",
      "517/517 [==============================] - 12s 23ms/step - loss: 0.2443 - accuracy: 0.8790\n",
      "Epoch 51/100\n",
      "517/517 [==============================] - 12s 23ms/step - loss: 0.2437 - accuracy: 0.8798\n",
      "Epoch 52/100\n",
      "517/517 [==============================] - 11s 22ms/step - loss: 0.2396 - accuracy: 0.8800\n",
      "Epoch 53/100\n",
      "517/517 [==============================] - 11s 22ms/step - loss: 0.2396 - accuracy: 0.8820\n",
      "Epoch 54/100\n",
      "517/517 [==============================] - 11s 22ms/step - loss: 0.2381 - accuracy: 0.8811\n",
      "Epoch 55/100\n",
      "517/517 [==============================] - 11s 22ms/step - loss: 0.2323 - accuracy: 0.8848\n",
      "Epoch 56/100\n",
      "517/517 [==============================] - 11s 21ms/step - loss: 0.2344 - accuracy: 0.8850\n",
      "Epoch 57/100\n",
      "517/517 [==============================] - 11s 22ms/step - loss: 0.2303 - accuracy: 0.8869\n",
      "Epoch 58/100\n",
      "517/517 [==============================] - 11s 22ms/step - loss: 0.2240 - accuracy: 0.8889\n",
      "Epoch 59/100\n",
      "517/517 [==============================] - 12s 22ms/step - loss: 0.2258 - accuracy: 0.8882\n",
      "Epoch 60/100\n",
      "517/517 [==============================] - 12s 23ms/step - loss: 0.2186 - accuracy: 0.8910\n",
      "Epoch 61/100\n",
      "517/517 [==============================] - 12s 23ms/step - loss: 0.2228 - accuracy: 0.8907\n",
      "Epoch 62/100\n",
      "517/517 [==============================] - 11s 22ms/step - loss: 0.2203 - accuracy: 0.8897\n",
      "Epoch 63/100\n",
      "517/517 [==============================] - 11s 22ms/step - loss: 0.2147 - accuracy: 0.8937\n",
      "Epoch 64/100\n",
      "517/517 [==============================] - 11s 22ms/step - loss: 0.2138 - accuracy: 0.8938\n",
      "Epoch 65/100\n",
      "517/517 [==============================] - 11s 21ms/step - loss: 0.2115 - accuracy: 0.8947\n",
      "Epoch 66/100\n",
      "517/517 [==============================] - 12s 23ms/step - loss: 0.2131 - accuracy: 0.8942\n",
      "Epoch 67/100\n",
      "517/517 [==============================] - 11s 22ms/step - loss: 0.2081 - accuracy: 0.8955\n",
      "Epoch 68/100\n",
      "517/517 [==============================] - 11s 22ms/step - loss: 0.2043 - accuracy: 0.8989\n",
      "Epoch 69/100\n",
      "517/517 [==============================] - 12s 23ms/step - loss: 0.2028 - accuracy: 0.9001\n",
      "Epoch 70/100\n",
      "517/517 [==============================] - 12s 23ms/step - loss: 0.2013 - accuracy: 0.8990\n",
      "Epoch 71/100\n",
      "517/517 [==============================] - 11s 21ms/step - loss: 0.2061 - accuracy: 0.8971\n",
      "Epoch 72/100\n",
      "517/517 [==============================] - 13s 24ms/step - loss: 0.2008 - accuracy: 0.9006\n",
      "Epoch 73/100\n",
      "517/517 [==============================] - 12s 22ms/step - loss: 0.1996 - accuracy: 0.9004\n",
      "Epoch 74/100\n",
      "517/517 [==============================] - 11s 22ms/step - loss: 0.1967 - accuracy: 0.9021\n",
      "Epoch 75/100\n",
      "517/517 [==============================] - 12s 23ms/step - loss: 0.1951 - accuracy: 0.9045\n",
      "Epoch 76/100\n",
      "517/517 [==============================] - 11s 22ms/step - loss: 0.1972 - accuracy: 0.9028\n",
      "Epoch 77/100\n",
      "517/517 [==============================] - 11s 22ms/step - loss: 0.1925 - accuracy: 0.9045\n",
      "Epoch 78/100\n",
      "517/517 [==============================] - 12s 23ms/step - loss: 0.1919 - accuracy: 0.9065\n",
      "Epoch 79/100\n",
      "517/517 [==============================] - 12s 24ms/step - loss: 0.1907 - accuracy: 0.9066\n",
      "Epoch 80/100\n",
      "517/517 [==============================] - 12s 23ms/step - loss: 0.1842 - accuracy: 0.9081\n",
      "Epoch 81/100\n",
      "517/517 [==============================] - 12s 23ms/step - loss: 0.1881 - accuracy: 0.9075\n",
      "Epoch 82/100\n",
      "517/517 [==============================] - 11s 21ms/step - loss: 0.1864 - accuracy: 0.9064\n",
      "Epoch 83/100\n",
      "517/517 [==============================] - 12s 22ms/step - loss: 0.1856 - accuracy: 0.9088\n",
      "Epoch 84/100\n",
      "517/517 [==============================] - 11s 22ms/step - loss: 0.1803 - accuracy: 0.9104\n",
      "Epoch 85/100\n",
      "517/517 [==============================] - 11s 21ms/step - loss: 0.1824 - accuracy: 0.9101\n",
      "Epoch 86/100\n",
      "517/517 [==============================] - 11s 21ms/step - loss: 0.1808 - accuracy: 0.9115\n",
      "Epoch 87/100\n",
      "517/517 [==============================] - 11s 22ms/step - loss: 0.1793 - accuracy: 0.9103\n",
      "Epoch 88/100\n",
      "517/517 [==============================] - 12s 22ms/step - loss: 0.1788 - accuracy: 0.9122\n",
      "Epoch 89/100\n",
      "517/517 [==============================] - 11s 22ms/step - loss: 0.1767 - accuracy: 0.9125\n",
      "Epoch 90/100\n",
      "517/517 [==============================] - 11s 22ms/step - loss: 0.1834 - accuracy: 0.9104\n",
      "Epoch 91/100\n",
      "517/517 [==============================] - 12s 23ms/step - loss: 0.1733 - accuracy: 0.9153\n",
      "Epoch 92/100\n",
      "517/517 [==============================] - 11s 22ms/step - loss: 0.1719 - accuracy: 0.9143\n",
      "Epoch 93/100\n",
      "517/517 [==============================] - 12s 23ms/step - loss: 0.1682 - accuracy: 0.9172\n",
      "Epoch 94/100\n",
      "517/517 [==============================] - 12s 23ms/step - loss: 0.1711 - accuracy: 0.9148\n",
      "Epoch 95/100\n",
      "517/517 [==============================] - 12s 23ms/step - loss: 0.1720 - accuracy: 0.9141\n",
      "Epoch 96/100\n",
      "517/517 [==============================] - 12s 22ms/step - loss: 0.1740 - accuracy: 0.9155\n",
      "Epoch 97/100\n",
      "517/517 [==============================] - 12s 22ms/step - loss: 0.1734 - accuracy: 0.9156\n",
      "Epoch 98/100\n",
      "517/517 [==============================] - 12s 23ms/step - loss: 0.1703 - accuracy: 0.9172\n",
      "Epoch 99/100\n",
      "517/517 [==============================] - 12s 24ms/step - loss: 0.1698 - accuracy: 0.9167\n",
      "Epoch 100/100\n",
      "517/517 [==============================] - 12s 23ms/step - loss: 0.1629 - accuracy: 0.9198\n"
     ]
    },
    {
     "data": {
      "text/plain": [
       "<keras.src.callbacks.History at 0x29fd1f310>"
      ]
     },
     "execution_count": 40,
     "metadata": {},
     "output_type": "execute_result"
    }
   ],
   "source": [
    "LSTM_model.fit(x_train,y_train,epochs=100,batch_size=64)"
   ]
  },
  {
   "cell_type": "code",
   "execution_count": 47,
   "id": "de947cfd-db26-4ada-a3d0-52f21b08eee6",
   "metadata": {},
   "outputs": [
    {
     "name": "stdout",
     "output_type": "stream",
     "text": [
      "509/509 [==============================] - 2s 4ms/step\n"
     ]
    }
   ],
   "source": [
    "y_pred = LSTM_model.predict(x_test)"
   ]
  },
  {
   "cell_type": "code",
   "execution_count": 48,
   "id": "0b13fc7a-e5fb-4a1f-92ae-578ca4c64945",
   "metadata": {},
   "outputs": [
    {
     "data": {
      "text/plain": [
       "array([[9.9490637e-01],\n",
       "       [4.4065657e-01],\n",
       "       [7.6171458e-01],\n",
       "       ...,\n",
       "       [8.6634284e-01],\n",
       "       [1.0000000e+00],\n",
       "       [3.6110796e-04]], dtype=float32)"
      ]
     },
     "execution_count": 48,
     "metadata": {},
     "output_type": "execute_result"
    }
   ],
   "source": [
    "y_pred"
   ]
  },
  {
   "cell_type": "code",
   "execution_count": 49,
   "id": "9a837cf1-ca4d-46e9-8adf-74381358c54e",
   "metadata": {},
   "outputs": [
    {
     "data": {
      "text/plain": [
       "array([0, 0, 0, ..., 0, 1, 0])"
      ]
     },
     "execution_count": 49,
     "metadata": {},
     "output_type": "execute_result"
    }
   ],
   "source": [
    "y_test"
   ]
  },
  {
   "cell_type": "code",
   "execution_count": 50,
   "id": "f47fa9bd-fd62-4c8e-bcac-fe01a2fe5849",
   "metadata": {},
   "outputs": [],
   "source": [
    "lstm_pred = [int(x) for x in (y_pred > 0.5)]"
   ]
  },
  {
   "cell_type": "code",
   "execution_count": 51,
   "id": "1130b534-1741-4e89-909f-c8d35fed3115",
   "metadata": {},
   "outputs": [
    {
     "name": "stdout",
     "output_type": "stream",
     "text": [
      "0.8237931458051836\n",
      "              precision    recall  f1-score   support\n",
      "\n",
      "           0       0.82      0.83      0.82      8094\n",
      "           1       0.83      0.82      0.82      8188\n",
      "\n",
      "    accuracy                           0.82     16282\n",
      "   macro avg       0.82      0.82      0.82     16282\n",
      "weighted avg       0.82      0.82      0.82     16282\n",
      "\n"
     ]
    }
   ],
   "source": [
    "print(metrics.accuracy_score(lstm_pred, y_test))\n",
    "\n",
    "print(metrics.classification_report(y_test, lstm_pred))"
   ]
  },
  {
   "cell_type": "code",
   "execution_count": 52,
   "id": "342a6445-a11f-490a-9e05-76ff8779b3d8",
   "metadata": {},
   "outputs": [
    {
     "name": "stdout",
     "output_type": "stream",
     "text": [
      "[[6688 1406]\n",
      " [1463 6725]]\n"
     ]
    },
    {
     "data": {
      "text/plain": [
       "Text(0.5, 1.0, 'Confusion Matrix')"
      ]
     },
     "execution_count": 52,
     "metadata": {},
     "output_type": "execute_result"
    },
    {
     "data": {
      "image/png": "[encoded data removed]",
      "text/plain": [
       "<Figure size 640x480 with 2 Axes>"
      ]
     },
     "metadata": {},
     "output_type": "display_data"
    }
   ],
   "source": [
    "cmatrix = confusion_matrix(y_test, lstm_pred)\n",
    "\n",
    "print(cmatrix)\n",
    "\n",
    "sns.heatmap(cmatrix,fmt='d',cmap='BuPu',annot=True)\n",
    "\n",
    "plt.xlabel('Predicted Values')\n",
    "\n",
    "plt.ylabel('Actual Values')\n",
    "\n",
    "plt.title('Confusion Matrix')"
   ]
  },
  {
   "cell_type": "code",
   "execution_count": 55,
   "id": "8e88c0b0-7caf-4f2c-bd47-f2138087a0d2",
   "metadata": {},
   "outputs": [],
   "source": [
    "def predict(name):\n",
    "\n",
    "    name_samplevector = cv.transform([name]).toarray()\n",
    "    prediction = LSTM_model.predict([name_samplevector])\n",
    "\n",
    "    if prediction >=0.5:\n",
    "\n",
    "        out = 'Mujer'\n",
    "        print(name +' es un ' + out)\n",
    "\n",
    "    else:\n",
    "\n",
    "        out ='Hombre'\n",
    "        print(name +' es una ' + out)"
   ]
  },
  {
   "cell_type": "code",
   "execution_count": 56,
   "id": "8ba19fa7-98a5-410b-b653-88ec20e12606",
   "metadata": {},
   "outputs": [
    {
     "name": "stdout",
     "output_type": "stream",
     "text": [
      "1/1 [==============================] - 0s 15ms/step\n",
      "juan es una Hombre\n",
      "1/1 [==============================] - 0s 12ms/step\n",
      "angelica es un Mujer\n",
      "1/1 [==============================] - 0s 9ms/step\n",
      "jose es una Hombre\n",
      "1/1 [==============================] - 0s 9ms/step\n",
      "diana es un Mujer\n",
      "1/1 [==============================] - 0s 9ms/step\n",
      "andres es una Hombre\n",
      "1/1 [==============================] - 0s 9ms/step\n",
      "mayerly es un Mujer\n",
      "1/1 [==============================] - 0s 9ms/step\n",
      "sonia es una Hombre\n",
      "1/1 [==============================] - 0s 9ms/step\n",
      "laura es un Mujer\n",
      "1/1 [==============================] - 0s 9ms/step\n",
      "carlos es una Hombre\n"
     ]
    }
   ],
   "source": [
    "nombres = ['juan', 'angelica', 'jose', 'diana', 'andres', 'mayerly', 'sonia', 'laura', 'carlos']\n",
    "\n",
    "for n in nombres:\n",
    "    predict(n)"
   ]
  },
  {
   "cell_type": "code",
   "execution_count": null,
   "id": "6f5656b9-141f-42cc-a7fc-90e1282359eb",
   "metadata": {},
   "outputs": [],
   "source": []
  }
 ],
 "metadata": {
  "kernelspec": {
   "display_name": "Python 3 (ipykernel)",
   "language": "python",
   "name": "python3"
  },
  "language_info": {
   "codemirror_mode": {
    "name": "ipython",
    "version": 3
   },
   "file_extension": ".py",
   "mimetype": "text/x-python",
   "name": "python",
   "nbconvert_exporter": "python",
   "pygments_lexer": "ipython3",
   "version": "3.11.5"
  }
 },
 "nbformat": 4,
 "nbformat_minor": 5
}
